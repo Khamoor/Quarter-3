{
  "nbformat": 4,
  "nbformat_minor": 0,
  "metadata": {
    "colab": {
      "name": "Amazon Reviews for Sentiment Analysis",
      "provenance": [],
      "collapsed_sections": []
    },
    "kernelspec": {
      "name": "python3",
      "display_name": "Python 3"
    }
  },
  "cells": [
    {
      "cell_type": "markdown",
      "metadata": {
        "id": "6ZtPTa_JUP_U",
        "colab_type": "text"
      },
      "source": [
        "# **Mounting Google Drive**"
      ]
    },
    {
      "cell_type": "code",
      "metadata": {
        "id": "rNvTooVuQ7RC",
        "colab_type": "code",
        "colab": {
          "base_uri": "https://localhost:8080/",
          "height": 34
        },
        "outputId": "b37e194b-7836-4707-f608-c5cc0a784492"
      },
      "source": [
        "from google.colab import drive\n",
        "\n",
        "drive.mount('/content/drive')"
      ],
      "execution_count": 1,
      "outputs": [
        {
          "output_type": "stream",
          "text": [
            "Drive already mounted at /content/drive; to attempt to forcibly remount, call drive.mount(\"/content/drive\", force_remount=True).\n"
          ],
          "name": "stdout"
        }
      ]
    },
    {
      "cell_type": "markdown",
      "metadata": {
        "id": "RmgVVOJoUwGr",
        "colab_type": "text"
      },
      "source": [
        "# **Datasets in Google drive**"
      ]
    },
    {
      "cell_type": "code",
      "metadata": {
        "id": "HXqfxhZLUp-y",
        "colab_type": "code",
        "outputId": "46dcd766-cdca-4fac-a466-b9bc483680d0",
        "colab": {
          "base_uri": "https://localhost:8080/",
          "height": 34
        }
      },
      "source": [
        "import os\n",
        "\n",
        "os.listdir(\"/content/drive/My Drive/DataSets\")"
      ],
      "execution_count": 2,
      "outputs": [
        {
          "output_type": "execute_result",
          "data": {
            "text/plain": [
              "['Amazon_Reviews']"
            ]
          },
          "metadata": {
            "tags": []
          },
          "execution_count": 2
        }
      ]
    },
    {
      "cell_type": "code",
      "metadata": {
        "id": "HAKGxMudVcF6",
        "colab_type": "code",
        "colab": {}
      },
      "source": [
        "!unzip \"/content/drive/My Drive/DataSets/Amazon_Reviews/Amazon Reviews for Sentiment Analysis.zip\""
      ],
      "execution_count": 0,
      "outputs": []
    },
    {
      "cell_type": "code",
      "metadata": {
        "id": "LmByZ8mbiFf1",
        "colab_type": "code",
        "colab": {}
      },
      "source": [
        "!bunzip2 \"/content/train.ft.txt.bz2\""
      ],
      "execution_count": 0,
      "outputs": []
    },
    {
      "cell_type": "code",
      "metadata": {
        "id": "c-kagHqmlgFO",
        "colab_type": "code",
        "colab": {}
      },
      "source": [
        "!bunzip2 \"/content/test.ft.txt.bz2\""
      ],
      "execution_count": 0,
      "outputs": []
    },
    {
      "cell_type": "code",
      "metadata": {
        "id": "soEi7BAtWZec",
        "colab_type": "code",
        "outputId": "a349db43-6e63-41d2-9ec8-9071305836d0",
        "colab": {
          "base_uri": "https://localhost:8080/",
          "height": 34
        }
      },
      "source": [
        "# Moving both extracted files to Dataset folder\n",
        "import shutil\n",
        "\n",
        "shutil.move(\"train.ft.txt\", \"/content/drive/My Drive/DataSets/Amazon_Reviews\")\n",
        "shutil.move(\"test.ft.txt\", \"/content/drive/My Drive/DataSets/Amazon_Reviews\")"
      ],
      "execution_count": 0,
      "outputs": [
        {
          "output_type": "execute_result",
          "data": {
            "text/plain": [
              "'/content/drive/My Drive/DataSets/Amazon_Reviews/test.ft.txt'"
            ]
          },
          "metadata": {
            "tags": []
          },
          "execution_count": 43
        }
      ]
    },
    {
      "cell_type": "code",
      "metadata": {
        "id": "40oZlXdthghC",
        "colab_type": "code",
        "outputId": "007c8064-d444-454c-c6b4-63dc1ac03151",
        "colab": {
          "base_uri": "https://localhost:8080/",
          "height": 34
        }
      },
      "source": [
        "os.listdir(\"/content/drive/My Drive/DataSets/Amazon_Reviews\")"
      ],
      "execution_count": 3,
      "outputs": [
        {
          "output_type": "execute_result",
          "data": {
            "text/plain": [
              "['test.ft.txt', 'train.ft.txt', 'Amazon Reviews for Sentiment Analysis.zip']"
            ]
          },
          "metadata": {
            "tags": []
          },
          "execution_count": 3
        }
      ]
    },
    {
      "cell_type": "markdown",
      "metadata": {
        "id": "QpM7G8aaZX61",
        "colab_type": "text"
      },
      "source": [
        "# **Loading Data**"
      ]
    },
    {
      "cell_type": "code",
      "metadata": {
        "id": "56NxK9G5ZQ2_",
        "colab_type": "code",
        "colab": {}
      },
      "source": [
        "with open(\"/content/drive/My Drive/DataSets/Amazon_Reviews/train.ft.txt\") as f:\n",
        "  reviews = f.readlines()"
      ],
      "execution_count": 0,
      "outputs": []
    },
    {
      "cell_type": "code",
      "metadata": {
        "id": "9_cUtR349kc-",
        "colab_type": "code",
        "colab": {}
      },
      "source": [
        "# Main Method of Seperating Labels and Text\n",
        "labels = []\n",
        "texts = []\n",
        "for review in reviews:\n",
        "  line = review.rstrip()\n",
        "  if line[:10] == '__label__2':\n",
        "    labels.append(0)\n",
        "  elif line[:10] == \"__label__1\":\n",
        "      labels.append(1)\n",
        "  texts.append(line[11:])"
      ],
      "execution_count": 0,
      "outputs": []
    },
    {
      "cell_type": "code",
      "metadata": {
        "id": "vXRymV57AVyi",
        "colab_type": "code",
        "outputId": "07ab4d26-4331-4ffa-d2db-50cdac7e32ae",
        "colab": {
          "base_uri": "https://localhost:8080/",
          "height": 54
        }
      },
      "source": [
        "print(labels[0] , '-- ', texts[0])"
      ],
      "execution_count": 35,
      "outputs": [
        {
          "output_type": "stream",
          "text": [
            "0 --  Stuning even for the non-gamer: This sound track was beautiful! It paints the senery in your mind so well I would recomend it even to people who hate vid. game music! I have played the game Chrono Cross but out of all of the games I have ever played it has the best music! It backs away from crude keyboarding and takes a fresher step with grate guitars and soulful orchestras. It would impress anyone who cares to listen! ^_^\n"
          ],
          "name": "stdout"
        }
      ]
    },
    {
      "cell_type": "code",
      "metadata": {
        "id": "2WTwlQ_ZAqYp",
        "colab_type": "code",
        "outputId": "12dbb49c-9ffd-49a0-dccb-debf9843ffe4",
        "colab": {
          "base_uri": "https://localhost:8080/",
          "height": 51
        }
      },
      "source": [
        "print(\"Labels:\", len(labels))\n",
        "print(\"Texts:\", len(texts))"
      ],
      "execution_count": 36,
      "outputs": [
        {
          "output_type": "stream",
          "text": [
            "Labels: 3600000\n",
            "Texts: 3600000\n"
          ],
          "name": "stdout"
        }
      ]
    },
    {
      "cell_type": "code",
      "metadata": {
        "id": "At1OwU2bb-xj",
        "colab_type": "code",
        "colab": {}
      },
      "source": [
        "# Optional Method of Seperating Labels and Text\n",
        "label = []\n",
        "text = []\n",
        "for review in reviews:\n",
        "  line = review.rstrip()\n",
        "  label.append(line[:line.find(':') + 1])\n",
        "  text.append(line[line.find(':') + 1 :])"
      ],
      "execution_count": 0,
      "outputs": []
    },
    {
      "cell_type": "markdown",
      "metadata": {
        "id": "uJbtcfUHI6qz",
        "colab_type": "text"
      },
      "source": [
        "# **1) one-hot coding of the following data using book codes (naive codes) of listing 6.1**"
      ]
    },
    {
      "cell_type": "code",
      "metadata": {
        "id": "EVRA4ytzJ67r",
        "colab_type": "code",
        "colab": {}
      },
      "source": [
        "samples = texts[:100] # using only first 100 reviews"
      ],
      "execution_count": 0,
      "outputs": []
    },
    {
      "cell_type": "code",
      "metadata": {
        "id": "Whe5IYq1x1x5",
        "colab_type": "code",
        "colab": {}
      },
      "source": [
        "import numpy as np\n",
        "\n",
        "\n",
        "token_index = {}\n",
        "for sample in samples:\n",
        "  for word in sample.split():\n",
        "    if word not in token_index:\n",
        "      token_index[word] = len(token_index) + 1\n",
        "\n",
        "max_length = 10\n",
        "results = np.zeros(\n",
        "    shape=(len(samples), max_length, max(token_index.values()) + 1))\n",
        "\n",
        "for i, sample in enumerate(samples):\n",
        "  for j, word in list(enumerate(sample.split()))[:max_length]:\n",
        "    index = token_index.get(word)\n",
        "    results[i, j, index] = 1"
      ],
      "execution_count": 0,
      "outputs": []
    },
    {
      "cell_type": "code",
      "metadata": {
        "id": "dxu5-F1A2KgS",
        "colab_type": "code",
        "outputId": "7573dac6-0b73-4401-a0b3-a6133ee882a7",
        "colab": {
          "base_uri": "https://localhost:8080/",
          "height": 71
        }
      },
      "source": [
        "print(token_index)\n",
        "print(\"Length:\", len(token_index))"
      ],
      "execution_count": 39,
      "outputs": [
        {
          "output_type": "stream",
          "text": [
            "{'Stuning': 1, 'even': 2, 'for': 3, 'the': 4, 'non-gamer:': 5, 'This': 6, 'sound': 7, 'track': 8, 'was': 9, 'beautiful!': 10, 'It': 11, 'paints': 12, 'senery': 13, 'in': 14, 'your': 15, 'mind': 16, 'so': 17, 'well': 18, 'I': 19, 'would': 20, 'recomend': 21, 'it': 22, 'to': 23, 'people': 24, 'who': 25, 'hate': 26, 'vid.': 27, 'game': 28, 'music!': 29, 'have': 30, 'played': 31, 'Chrono': 32, 'Cross': 33, 'but': 34, 'out': 35, 'of': 36, 'all': 37, 'games': 38, 'ever': 39, 'has': 40, 'best': 41, 'backs': 42, 'away': 43, 'from': 44, 'crude': 45, 'keyboarding': 46, 'and': 47, 'takes': 48, 'a': 49, 'fresher': 50, 'step': 51, 'with': 52, 'grate': 53, 'guitars': 54, 'soulful': 55, 'orchestras.': 56, 'impress': 57, 'anyone': 58, 'cares': 59, 'listen!': 60, '^_^': 61, 'The': 62, 'soundtrack': 63, 'anything.:': 64, \"I'm\": 65, 'reading': 66, 'lot': 67, 'reviews': 68, 'saying': 69, 'that': 70, 'this': 71, 'is': 72, \"'game\": 73, \"soundtrack'\": 74, 'figured': 75, \"I'd\": 76, 'write': 77, 'review': 78, 'disagree': 79, 'bit.': 80, 'my': 81, 'opinino': 82, 'Yasunori': 83, \"Mitsuda's\": 84, 'ultimate': 85, 'masterpiece.': 86, 'music': 87, 'timeless': 88, 'been': 89, 'listening': 90, 'years': 91, 'now': 92, 'its': 93, 'beauty': 94, 'simply': 95, 'refuses': 96, 'fade.The': 97, 'price': 98, 'tag': 99, 'on': 100, 'pretty': 101, 'staggering': 102, 'must': 103, 'say,': 104, 'if': 105, 'you': 106, 'are': 107, 'going': 108, 'buy': 109, 'any': 110, 'cd': 111, 'much': 112, 'money,': 113, 'only': 114, 'one': 115, 'feel': 116, 'be': 117, 'worth': 118, 'every': 119, 'penny.': 120, 'Amazing!:': 121, 'favorite': 122, 'time,': 123, 'hands': 124, 'down.': 125, 'intense': 126, 'sadness': 127, '\"Prisoners': 128, 'Fate\"': 129, '(which': 130, 'means': 131, 'more': 132, \"you've\": 133, 'game)': 134, 'hope': 135, '\"A': 136, 'Distant': 137, 'Promise\"': 138, '\"Girl': 139, 'Stole': 140, 'Star\"': 141, 'an': 142, 'important': 143, 'inspiration': 144, 'me': 145, 'personally': 146, 'throughout': 147, 'teen': 148, 'years.': 149, 'higher': 150, 'energy': 151, 'tracks': 152, 'like': 153, '\"Chrono': 154, '~': 155, \"Time's\": 156, 'Scar~\",': 157, '\"Time': 158, 'Dreamwatch\",': 159, '\"Chronomantique\"': 160, '(indefinably': 161, 'remeniscent': 162, 'Trigger)': 163, 'absolutely': 164, 'superb': 165, 'as': 166, 'well.This': 167, 'amazing': 168, 'music,': 169, 'probably': 170, \"composer's\": 171, 'work': 172, '(I': 173, \"haven't\": 174, 'heard': 175, 'Xenogears': 176, 'soundtrack,': 177, \"can't\": 178, 'say': 179, 'sure),': 180, 'never': 181, 'game,': 182, 'twice': 183, 'it.I': 184, 'wish': 185, 'could': 186, 'give': 187, '6': 188, 'stars.': 189, 'Excellent': 190, 'Soundtrack:': 191, 'truly': 192, 'enjoy': 193, 'video': 194, 'music.': 195, 'most': 196, 'here': 197, \"it's\": 198, 'relaxing': 199, 'peaceful.On': 200, 'disk': 201, 'one.': 202, 'favorites': 203, 'Scars': 204, 'Of': 205, 'Time,': 206, 'Between': 207, 'Life': 208, 'Death,': 209, 'Forest': 210, 'Illusion,': 211, 'Fortress': 212, 'Ancient': 213, 'Dragons,': 214, 'Lost': 215, 'Fragment,': 216, 'Drowned': 217, 'Valley.Disk': 218, 'Two:': 219, 'Draggons,': 220, 'Galdorb': 221, '-': 222, 'Home,': 223, 'Chronomantique,': 224, 'Prisoners': 225, 'Fate,': 226, 'Gale,': 227, 'girlfriend': 228, 'likes': 229, 'ZelbessDisk': 230, 'Three:': 231, 'three.': 232, 'Garden': 233, 'God,': 234, 'Chronopolis,': 235, 'Fates,': 236, 'Jellyfish': 237, 'sea,': 238, 'Burning': 239, 'Orphange,': 240, \"Dragon's\": 241, 'Prayer,': 242, 'Tower': 243, 'Stars,': 244, 'Dragon': 245, 'Radical': 246, 'Dreamers': 247, 'Unstealable': 248, 'Jewel.Overall,': 249, 'excellent': 250, 'should': 251, 'brought': 252, 'by': 253, 'those': 254, 'music.Xander': 255, 'Remember,': 256, 'Pull': 257, 'Your': 258, 'Jaw': 259, 'Off': 260, 'Floor': 261, 'After': 262, 'Hearing': 263, 'it:': 264, 'If': 265, 'know': 266, 'how': 267, 'divine': 268, 'is!': 269, 'Every': 270, 'single': 271, 'song': 272, 'tells': 273, 'story': 274, 'good!': 275, 'greatest': 276, 'songs': 277, 'without': 278, 'doubt,': 279, 'Cross:': 280, 'Scar,': 281, 'Magical': 282, 'Dreamers:': 283, 'Wind,': 284, 'Sea': 285, 'Unstolen': 286, 'Jewel.': 287, '(Translation': 288, 'varies)': 289, 'perfect': 290, 'ask': 291, 'me,': 292, 'can': 293, 'be.': 294, 'Mitsuda': 295, 'just': 296, 'poured': 297, 'his': 298, 'heart': 299, 'wrote': 300, 'down': 301, 'paper.': 302, 'absolute': 303, 'masterpiece:': 304, 'am': 305, 'quite': 306, 'sure': 307, 'actually': 308, 'taking': 309, 'time': 310, 'read': 311, 'at': 312, 'least': 313, 'once,': 314, 'few': 315, 'here.': 316, 'And': 317, 'whether': 318, 'were': 319, 'aware': 320, 'or': 321, 'not,': 322, 'contributed': 323, 'greatly': 324, 'mood': 325, 'minute': 326, 'whole': 327, 'game.Composed': 328, '3': 329, 'CDs': 330, 'exact': 331, 'count),': 332, 'which': 333, 'heart-rendering': 334, 'impressively': 335, 'remarkable,': 336, 'assure': 337, 'will': 338, 'not': 339, 'forget.': 340, 'everything': 341, 'listener': 342, '--': 343, 'fast-paced': 344, 'energetic': 345, '(Dancing': 346, 'Tokage': 347, 'Termina': 348, 'Home),': 349, 'slower': 350, 'haunting': 351, '(Dragon': 352, 'God),': 353, 'purely': 354, 'beautifully': 355, 'composed': 356, \"(Time's\": 357, 'Scar),': 358, 'some': 359, 'fantastic': 360, 'vocals': 361, '(Radical': 362, 'Dreamers).This': 363, 'videogame': 364, 'soundtracks': 365, 'there,': 366, 'surely': 367, 'ever.': 368, 'Buyer': 369, 'beware:': 370, 'self-published': 371, 'book,': 372, 'want': 373, 'why--read': 374, 'paragraphs!': 375, 'Those': 376, '5': 377, 'star': 378, 'written': 379, 'Ms.': 380, \"Haddon's\": 381, 'family': 382, 'friends--or': 383, 'perhaps,': 384, 'herself!': 385, 'imagine': 386, 'thing--I': 387, 'spent': 388, 'evening': 389, 'book': 390, 'friend': 391, 'we': 392, 'hysterics': 393, 'bits': 394, 'pieces': 395, 'another.': 396, 'definitely': 397, 'bad': 398, 'enough': 399, 'entered': 400, 'into': 401, 'kind': 402, '\"worst': 403, 'book\"': 404, 'contest.': 405, 'believe': 406, 'Amazon': 407, 'sells': 408, 'thing.': 409, 'Maybe': 410, 'offer': 411, 'them': 412, '8th': 413, 'grade': 414, 'term': 415, 'paper': 416, '\"To': 417, 'Kill': 418, 'Mockingbird\"--a': 419, 'Haddon': 420, 'of.': 421, 'Anyway,': 422, 'unless': 423, 'send': 424, 'someone': 425, 'joke---stay': 426, 'far,': 427, 'far': 428, 'one!': 429, 'Glorious': 430, 'story:': 431, 'loved': 432, 'Whisper': 433, 'wicked': 434, 'saints.': 435, 'pleasantly': 436, 'surprised': 437, 'changes': 438, 'book.': 439, 'normaly': 440, 'romance': 441, 'novels,': 442, 'world': 443, 'raving': 444, 'about': 445, 'bought': 446, 'it.': 447, '!!': 448, 'brilliant': 449, 'because': 450, 'true.': 451, 'wonderful': 452, 'told': 453, 'friends': 454, 'typical': 455, 'romance,': 456, 'more.': 457, 'Not': 458, 'crime,': 459, 'becuase': 460, 'missing': 461, 'warming': 462, 'story.': 463, 'A': 464, 'FIVE': 465, 'STAR': 466, 'BOOK:': 467, 'finished': 468, 'Wicked': 469, 'fell': 470, 'love': 471, 'caracters.': 472, 'expected': 473, 'average': 474, 'read,': 475, 'instead': 476, 'found': 477, 'books': 478, 'time.': 479, 'Just': 480, 'when': 481, 'thought': 482, 'predict': 483, 'outcome': 484, 'shocked': 485, '!': 486, 'writting': 487, 'descriptive': 488, 'broke': 489, \"Julia's\": 490, 'did': 491, 'felt': 492, 'there': 493, 'distant': 494, 'reader.': 495, 'lover': 496, 'novels': 497, 'then': 498, 'read.': 499, \"Don't\": 500, 'let': 501, 'cover': 502, 'fool': 503, 'spectacular!': 504, 'Whispers': 505, 'Saints:': 506, 'easy': 507, 'made': 508, 'keep': 509, 'on,': 510, 'put': 511, 'down.It': 512, 'left': 513, 'wanting': 514, 'follow': 515, 'coming': 516, 'soon.': 517, 'used': 518, 'gotten': 519, 'again.': 520, 'Very': 521, 'enjoyable.': 522, 'Worst!:': 523, 'complete': 524, 'waste': 525, 'Typographical': 526, 'errors,': 527, 'poor': 528, 'grammar,': 529, 'totally': 530, 'pathetic': 531, 'plot': 532, 'add': 533, 'up': 534, 'nothing.': 535, 'embarrassed': 536, 'author': 537, 'very': 538, 'disappointed': 539, 'paid': 540, 'Great': 541, 'book:': 542, 'great': 543, 'book,I': 544, 'down,and': 545, 'fast': 546, 'enough.': 547, 'Boy': 548, 'what': 549, 'twist': 550, 'turns': 551, 'keeps': 552, 'guessing': 553, 'happen': 554, 'next.': 555, 'makes': 556, 'fall': 557, 'heat': 558, 'up,it': 559, 'also': 560, 'make': 561, 'angery.': 562, 'go': 563, 'throu': 564, 'several': 565, 'emotions.': 566, 'quick': 567, 'romance.': 568, 'something': 569, 'end': 570, 'day': 571, 'off': 572, 'night.': 573, 'Read:': 574, 'brilliant,': 575, 'yet': 576, 'realistic.': 577, 'showed': 578, 'error': 579, 'human.': 580, 'fact': 581, 'writer': 582, 'loving': 583, 'side': 584, 'God': 585, 'revengeful': 586, 'him.': 587, 'twisted': 588, 'turned': 589, 'glass': 590, 'castle.': 591, 'Oh': 592, 'please:': 593, 'guess': 594, 'novel': 595, 'one,': 596, 'discerning': 597, 'All': 598, 'others': 599, 'beware!': 600, 'drivel.': 601, 'trouble': 602, 'typo': 603, 'prominently': 604, 'featured': 605, 'back': 606, 'cover,': 607, 'first': 608, 'page': 609, 'removed': 610, 'doubt.': 611, 'Wait': 612, 'maybe': 613, 'point.': 614, 're-read': 615, 'beginning': 616, 'clear.': 617, 'intentional': 618, 'churning': 619, 'over-heated': 620, 'prose': 621, 'satiric': 622, 'purposes.': 623, 'Phew,': 624, 'glad': 625, \"didn't\": 626, '$10.95': 627, 'after': 628, 'all.': 629, 'Awful': 630, 'beyond': 631, 'belief!:': 632, 'wasting': 633, 'their': 634, 'money.': 635, 'seems': 636, '7th': 637, 'grader': 638, 'grammatical': 639, 'skills': 640, 'her': 641, 'age!': 642, 'As': 643, 'another': 644, 'reviewer': 645, 'points': 646, 'out,': 647, 'misspelling': 648, 'per': 649, 'chapter.': 650, 'For': 651, 'example,': 652, 'mentioned': 653, 'she': 654, 'had': 655, '\"lean\"': 656, 'house.': 657, 'distracted': 658, 'writing': 659, 'weak': 660, 'plot,': 661, 'decided': 662, 'pencil': 663, 'hand': 664, 'mark': 665, 'horrible': 666, 'grammar': 667, 'spelling.': 668, 'Please': 669, \"don't\": 670, 'too,': 671, 'good': 672, \"author's\": 673, 'relatives.': 674, 'faith': 675, 'on!': 676, 'try': 677, 'us': 678, 'fake': 679, 'reviews.:': 680, \"It's\": 681, 'glaringly': 682, 'obvious': 683, 'glowing': 684, 'same': 685, 'person,': 686, 'perhaps': 687, 'herself.': 688, 'They': 689, 'misspellings': 690, 'sentence': 691, 'structure': 692, 'Who': 693, 'Veronica': 694, 'think': 695, 'author?': 696, 'romantic': 697, 'zen': 698, 'baseball': 699, 'comedy:': 700, 'When': 701, 'hear': 702, 'folks': 703, 'they': 704, \"'em\": 705, 'anymore,': 706, 'might': 707, 'talking': 708, '\"BY': 709, 'THE': 710, 'SEA\".': 711, 'cool': 712, 'young': 713, 'Cuban': 714, 'girl': 715, 'searching': 716, 'idenity': 717, 'stumbles': 718, 'coastal': 719, 'resort': 720, 'kitchen': 721, 'gig': 722, 'motorcycle': 723, 'maintenance': 724, 'man,': 725, 'three': 726, 'hysterical': 727, 'Italian': 728, 'chefs': 729, 'Latino': 730, 'fireballing': 731, 'right': 732, 'handed': 733, 'pitcher': 734, 'plays': 735, 'team': 736, 'sponsored': 737, \"resort's\": 738, 'owner.': 739, 'often': 740, 'case': 741, \"'finds'\": 742, 'herself': 743, 'through': 744, 'honest,': 745, 'comical': 746, 'always': 747, 'emotional,': 748, 'interaction': 749, 'sizzling': 750, 'roster': 751, 'players.': 752, 'With': 753, 'mix': 754, 'special': 755, 'effects,': 756, 'salsa': 757, 'flashbacks,': 758, 'BY': 759, 'SEA,': 760, 'gets': 761, '4': 762, 'BIG': 763, 'stars': 764, 'me!': 765, 'Fashionable': 766, 'Compression': 767, 'Stockings!:': 768, 'DVT': 769, 'doctor': 770, 'required': 771, 'wear': 772, 'compression': 773, 'stockings.': 774, 'wore': 775, 'ugly': 776, 'white': 777, 'TED': 778, 'hose': 779, 'yucky': 780, 'thick': 781, 'brown': 782, 'Then': 783, 'Jobst': 784, 'UltraSheer.': 785, 'gave': 786, 'needed': 787, '(15-20,)': 788, 'looked': 789, 'regular': 790, 'pantyhose.': 791, 'Even': 792, 'though': 793, 'blood': 794, 'clot': 795, 'gone': 796, 'years,': 797, 'still': 798, 'these': 799, 'support': 800, 'stockings': 801, 'legs': 802, 'nice.**Note,': 803, 'problems': 804, 'rubberized': 805, 'tops': 806, 'rolling': 807, 'thigh.': 808, 'tried': 809, 'adhesive,': 810, 'hated': 811, 'having': 812, 'skin': 813, 'pulled': 814, 'day.': 815, 'inexpensive': 816, 'garter': 817, 'belt': 818, 'works': 819, 'fine': 820, 'helps': 821, 'rolling.': 822, 'UltraSheer': 823, 'Thigh': 824, 'High:': 825, 'product.': 826, 'However,': 827, 'difficult': 828, 'get': 829, 'older': 830, 'people.': 831, \"I've\": 832, 'full': 833, 'workout': 834, 'getting': 835, 'on.': 836, 'Also,': 837, 'wears': 838, 'begin': 839, 'roll': 840, 'top': 841, 'create': 842, 'deep': 843, 'ridge': 844, 'skin.': 845, 'them,': 846, 'two': 847, 'difficulties': 848, 'addressed': 849, 'such': 850, 'help.': 851, 'sizes': 852, 'recomended': 853, 'size': 854, 'chart': 855, 'real:': 856, 'smaller': 857, 'than': 858, 'chart.': 859, 'sheer': 860, 'it!.': 861, 'item': 862, 'internet..it': 863, 'better': 864, 'store': 865, 'check': 866, 'mens': 867, 'ultrasheer:': 868, 'model': 869, 'may': 870, 'ok': 871, 'sedentary': 872, 'types,': 873, 'active': 874, 'around': 875, 'alot': 876, 'job': 877, 'consistently': 878, 'rolled': 879, 'ankles!': 880, 'Good!!': 881, 'Solution:': 882, 'standard': 883, 'stocking,': 884, '20-30,': 885, 'stock': 886, '#114622.': 887, 'support,': 888, 'stays': 889, 'gives': 890, 'need.': 891, 'Both': 892, 'pair': 893, 'tore': 894, 'struggled': 895, 'pull': 896, 'Good': 897, 'riddance/bad': 898, 'investment!': 899, 'Delicious': 900, 'cookie': 901, 'mix:': 902, 'funny': 903, 'product': 904, 'knowing': 905, 'mix.': 906, 'header': 907, 'quickly': 908, 'packaged': 909, 'cookies.': 910, 'But': 911, 'no,': 912, 'MIX': 913, 'noticed': 914, 'since': 915, 'title.This': 916, 'baking': 917, 'convenience': 918, 'dough': 919, 'wrapped': 920, 'plastic': 921, 'logs': 922, 'bit': 923, 'surprise.': 924, 'Mixing': 925, 'VERY': 926, 'messy': 927, '(it': 928, 'extremely': 929, 'sticky).': 930, 'flexibility': 931, 'ratio': 932, 'ingredients': 933, 'extra': 934, 'butter': 935, 'baked': 936, 'cookies': 937, 'chewy).': 938, 'really': 939, 'large': 940, 'chocolate': 941, 'chips': 942, 'it--I': 943, 'that.I': 944, 'addition': 945, \"'natural\": 946, \"flavors'\": 947, 'Another': 948, 'Abysmal': 949, 'Digital': 950, 'Copy:': 951, 'Rather': 952, 'scratches': 953, 'insect': 954, 'droppings,': 955, 'random': 956, 'pixelations': 957, 'combined': 958, 'muddy': 959, 'light': 960, 'vague': 961, 'image': 962, 'resolution.': 963, 'Probably': 964, 'cue': 965, 'packaging': 966, 'straight': 967, 'street': 968, 'corner': 969, 'bootleg': 970, 'dealer.If': 971, 'seen': 972, 'reasonably': 973, 'condition': 974, 'film': 975, 'copy,': 976, 'defining': 977, 'visuals': 978, 'crystal': 979, 'clear': 980, 'lighting': 981, 'contrasts': 982, 'black': 983, 'white.': 984, 'surrounding': 985, 'countryside': 986, \"'old\": 987, \"home'\": 988, 'scenes': 989, 'set': 990, 'early': 991, 'morning': 992, 'ground': 993, 'mists': 994, 'haze': 995, 'memory': 996, 'while': 997, 'events': 998, 'bridge': 999, 'water': 1000, 'bright,': 1001, 'clear,': 1002, 'immediate.Here': 1003, 'dull,': 1004, 'dark,': 1005, 'clouded.': 1006, 'Or,': 1007, 'remember': 1008, 'timbre': 1009, 'enunciation': 1010, \"Captain's\": 1011, 'commands,': 1012, 'visuals.After': 1013, 'that,': 1014, 'hard': 1015, 'award': 1016, 'winning,': 1017, 'critically': 1018, 'acclaimed': 1019, \"film's\": 1020, 'presentation': 1021, 'YOUTUBE.': 1022, 'Somewhere': 1023, '\"out': 1024, 'there\"': 1025, 'DVD': 1026, 'comes': 1027, '16mm': 1028, 'public': 1029, 'library': 1030, 'reel.Just': 1031, 'none': 1032, 'appear': 1033, 'Amazon.': 1034, 'fascinating': 1035, 'insight': 1036, 'life': 1037, 'modern': 1038, 'Japanese': 1039, 'teens:': 1040, 'thoroughly': 1041, 'enjoyed': 1042, 'Rising': 1043, 'Sons': 1044, 'Daughters.': 1045, 'other': 1046, 'looks': 1047, 'society': 1048, 'point': 1049, 'view': 1050, 'poised': 1051, 'between': 1052, \"parents'\": 1053, 'age-old': 1054, 'culture': 1055, 'restraint': 1056, 'obedience': 1057, 'community,': 1058, \"peers'\": 1059, 'adulation': 1060, 'Western': 1061, 'culture.': 1062, 'True': 1063, 'form,': 1064, '\"New': 1065, 'Young\"': 1066, 'Japan': 1067, 'seem': 1068, 'creating': 1069, '\"international\"': 1070, 'blend,': 1071, 'Ando': 1072, 'demonstrates': 1073, 'vignettes': 1074, 'private': 1075, 'lives': 1076, 'members': 1077, 'family.': 1078, 'Steven': 1079, 'Wardell': 1080, 'clearly': 1081, 'talented': 1082, 'author,': 1083, 'adopted': 1084, 'schooling': 1085, 'four': 1086, 'teens,': 1087, 'thus': 1088, 'able': 1089, 'inside': 1090, 'out.': 1091, 'read!': 1092, 'i': 1093, 'liked': 1094, 'album': 1095, 'would:': 1096, 'o': 1097, 'o,but': 1098, 'listened': 1099, '\"blue': 1100, 'angel\",\"lanna\"': 1101, '\\'mama\"': 1102, 'hair': 1103, 'rose': 1104, 'neck.Roy': 1105, 'trully': 1106, 'singer': 1107, 'talent': 1108, 'find': 1109, 'days.': 1110, 'Problem': 1111, 'charging': 1112, 'AAAs:': 1113, 'charger': 1114, 'charges': 1115, 'AA': 1116, 'batteries': 1117, 'fine,': 1118, 'huge': 1119, 'problem': 1120, 'securing': 1121, 'AAA': 1122, 'batteries.': 1123, 'To': 1124, 'charge': 1125, 'need': 1126, 'flip': 1127, 'little': 1128, 'button': 1129, 'positive': 1130, 'end.': 1131, 'In': 1132, 'pop': 1133, 'up,': 1134, \"won't\": 1135, 'hold.': 1136, 'mechanism': 1137, 'became': 1138, 'loose,': 1139, 'horizontal': 1140, 'pressure': 1141, 'push': 1142, 'buttons': 1143, 'up.': 1144, 'What': 1145, 'do': 1146, 'using': 1147, 'duct': 1148, 'tape': 1149, 'segment': 1150, 'crayon,': 1151, 'apply': 1152, 'crayon': 1153, 'buttons,': 1154, 'wrap': 1155, 'around.': 1156, 'You': 1157, 'painful': 1158, 'is.': 1159, 'Works,': 1160, 'advertised:': 1161, 'chargers..the': 1162, 'instructions': 1163, 'lights': 1164, 'stay': 1165, 'battery': 1166, 'charges...true.': 1167, 'doNT': 1168, 'turn': 1169, 'done.': 1170, 'Which': 1171, '24': 1172, 'hours': 1173, 'returned': 1174, 'thinking': 1175, 'unit.The': 1176, 'new': 1177, 'kept': 1178, 'does': 1179, 'charge...but': 1180, 'useless': 1181, '\"backup\"': 1182, 'manage': 1183, 'drain': 1184, 'AAs': 1185, \"wouldn't\": 1186, 'charger.': 1187, 'Disappointed:': 1188, 'reviews,made': 1189, 'purchase': 1190, 'disappointed.': 1191, 'convenient': 1192, 'once': 1193, 'lasts': 1194, 'short': 1195, 'longer': 1196, 'kodak': 1197, 'NiMH': 1198, 'dear:': 1199, 'excited': 1200, 'ostensibly': 1201, 'Muslim': 1202, 'feminism,': 1203, 'volume': 1204, 'live': 1205, 'expectations.One': 1206, 'essay,': 1207, 'among': 1208, 'things,': 1209, 'describes': 1210, 'veil': 1211, 'potentially': 1212, 'liberating.': 1213, \"doesn't\": 1214, 'explain': 1215, 'why.Another,': 1216, 'women': 1217, 'Cape': 1218, 'Town,': 1219, 'claims': 1220, 'separate': 1221, '\"more': 1222, 'equal.\"': 1223, 'Gee': 1224, 'whiz,': 1225, 'disappointment.I': 1226, 'hoped': 1227, 'feminist': 1228, 'condemnation': 1229, 'gender': 1230, 'apartheid.': 1231, \"book.I'm\": 1232, 'essay': 1233, 'extolling': 1234, 'virtues': 1235, 'female': 1236, 'genital': 1237, 'mutilation.--Alyssa': 1238, 'A.': 1239, 'Lappen': 1240, 'Based': 1241, 'did!:': 1242, 'VCR/DVD': 1243, 'Christmas': 1244, 'present': 1245, 'myself': 1246, 'deciding': 1247, 'join': 1248, 'rest': 1249, 'DVD-land': 1250, 'VHS': 1251, 'movies': 1252, 'yet.': 1253, 'price,': 1254, 'own': 1255, 'JVC': 1256, 'TV,': 1257, 'choice.': 1258, 'agree': 1259, 'set-up.': 1260, 'awkward': 1261, 'TV/VHS/DVD': 1262, 'selection': 1263, 'options': 1264, 'hang': 1265, 'it.Two': 1266, 'comments:': 1267, 'intuitive': 1268, 'complicated': 1269, '(too': 1270, 'many': 1271, 'remote': 1272, 'please': 1273, 'technically-minded': 1274, 'me)': 1275, 'rely': 1276, 'heavily': 1277, 'how-to': 1278, 'manual.': 1279, 'setting': 1280, 'VCR': 1281, 'timer': 1282, 'enter': 1283, 'start': 1284, 'scroll': 1285, '(unless': 1286, 'something)...but': 1287, 'complaints.': 1288, '$$$.': 1289, 'Incorrect': 1290, 'disc!:': 1291, 'big': 1292, 'fan,': 1293, 'model,': 1294, 'suspiscious': 1295, 'saw': 1296, 'units': 1297, 'return': 1298, 'section': 1299, 'store.': 1300, 'anyway': 1301, '(new)': 1302, 'happy.': 1303, 'unit': 1304, 'sends': 1305, 'clicks': 1306, 'receiver': 1307, 'while,': 1308, 'transition': 1309, 'smooth,(like': 1310, 'pause)': 1311, 'fairly': 1312, 'DVD,CD': 1313, 'headcleaner': 1314, 'work.': 1315, '\"incorrect': 1316, 'disc\"': 1317, 'message.': 1318, 'happy': 1319, 'it...but:': 1320, 'nut...I': 1321, 'televisions,': 1322, 'VCR,': 1323, 'bookshelf': 1324, 'audio': 1325, 'system': 1326, 'car': 1327, 'system.': 1328, 'So': 1329, 'came': 1330, 'move': 1331, 'player': 1332, 'boys': 1333, 'room': 1334, 'old': 1335, 'man': 1336, 'knew': 1337, 'combo': 1338, 'longer.': 1339, 'except': 1340, '2': 1341, 'things:(1)no': 1342, 'cable': 1343, 'box': 1344, 'compatability': 1345, 'control': 1346, '(2)no': 1347, 'seperate': 1348, 'inputs': 1349, 'input': 1350, 'coax': 1351, 'programming': 1352, 'mono...wife': 1353, 'tell': 1354, 'difference': 1355, \"she's\": 1356, \"I'll\": 1357, 'look': 1358, 'GREAT!!!!!!!': 1359, 'titled': 1360, '\"Hollywood': 1361, 'Debacle\":': 1362, 'ridiculous,': 1363, 'wonder': 1364, 'script': 1365, 'before': 1366, 'making': 1367, 'film.': 1368, 'mountain': 1369, 'lion': 1370, 'breaks': 1371, 'trailer': 1372, 'cars': 1373, 'behind': 1374, 'notice?': 1375, 'captured': 1376, 'jail': 1377, 'cell?': 1378, 'Get': 1379, 'real!': 1380, 'Utterly,': 1381, 'completely': 1382, 'stupid.': 1383, 'Is': 1384, 'TV???': 1385, 'bet': 1386, 'is:': 1387, 'Hotel': 1388, 'Babylon': 1389, \"TV...it's\": 1390, 'TV!!!!': 1391, 'show': 1392, 'features': 1393, 'incredible': 1394, 'acting': 1395, 'Tamzin': 1396, 'Outhwaite': 1397, '(formerly': 1398, 'EastEnders,': 1399, 'BBC': 1400, 'soap)': 1401, 'Max': 1402, 'Beesley': 1403, '(from': 1404, 'ill-fated': 1405, 'movie': 1406, '\"Glitter\"': 1407, 'starring': 1408, 'Mariah': 1409, 'Carey).': 1410, 'drama': 1411, 'series,': 1412, 'drama,': 1413, 'comedy,': 1414, 'soap': 1415, 'opera': 1416, 'mixed': 1417, 'show.': 1418, 'aired': 1419, 'America': 1420, 'seeing': 1421, 'got': 1422, 'episodes': 1423, 'great.': 1424, 'season': 1425, 'finale': 1426, 'interesting': 1427, 'watch.The': 1428, 'reminds': 1429, 'ABC': 1430, '1983': 1431, '1988.': 1432, 'reason...Hotel': 1433, 'fictional': 1434, 'San': 1435, 'Francisco': 1436, 'hotel': 1437, 'luxury': 1438, 'five-star': 1439, 'England.I': 1440, 'recommend': 1441, 'willing': 1442, 'watch': 1443, 'BBC.': 1444, 'Nothing': 1445, 'already': 1446, 'know:': 1447, 'casually': 1448, 'applying': 1449, 'law': 1450, 'school,': 1451, 'seriously!!': 1452, 'Unfortunately': 1453, \"wasn't\": 1454, 'entertaining': 1455, 'bit.:': 1456, 'ordered': 1457, 'CD,': 1458, 'hip,': 1459, 'daddy': 1460, 'vibe': 1461, 'CD.': 1462, 'However': 1463, 'dismay': 1464, 'sounds': 1465, 'fourth': 1466, 'class.': 1467, 'main': 1468, 'jist': 1469, 'CD': 1470, 'xylaphone': 1471, 'playing': 1472, 'over': 1473, 'peoples': 1474, 'voices': 1475, 'trying': 1476, 'replicate': 1477, 'happening': 1478, 'party.': 1479, 'party': 1480, 'anywhere': 1481, 'neighborhood': 1482, 'laughed': 1483, 'beach.': 1484, 'Growing': 1485, 'surfer': 1486, 'Diego,': 1487, 'Southern': 1488, 'California': 1489, 'brothers.': 1490, 'Honestly,': 1491, 'kinda': 1492, 'B': 1493, 'movie.': 1494, 'absolutle': 1495, 'epitimy': 1496, 'last': 1497, '\"vibe\"': 1498, 'Surf': 1499, 'Cha': 1500, 'Cha.': 1501, 'Surfers': 1502, 'CHA.': 1503, 'Rochelle': 1504, 'explains': 1505, 'You:': 1506, 'Wondering': 1507, 'hell': 1508, 'happened': 1509, 'moral': 1510, 'aspect': 1511, 'American': 1512, '?': 1513, 'lucid,': 1514, 'argued': 1515, 'explanation': 1516, 'simple': 1517, 'become': 1518, 'focused': 1519, 'our': 1520, 'individual': 1521, 'RIGHTS': 1522, 'ignored,': 1523, 'mocked,': 1524, 'personal': 1525, 'responsibilities.': 1526, 'final': 1527, 'response': 1528, 'indictment': 1529, 'Robert': 1530, \"Ringer's\": 1531, 'seller,': 1532, 'LOOKING': 1533, 'OUT': 1534, 'FOR': 1535, '#1.': 1536, 'disgusted': 1537, 'boorish': 1538, 'state': 1539, 'media,': 1540, 'politics': 1541, 'discourse': 1542, 'general,': 1543, 'heads': 1544, 'substantial': 1545, 'challenges': 1546, 'lie': 1547, 'Americans,': 1548, 'human': 1549, 'beings.': 1550, 'More': 1551, 'playing:': 1552, \"Larry's\": 1553, 'Muse': 1554, 'label': 1555, 'late': 1556, '80s': 1557, '90s': 1558, 'him': 1559, 'exploring': 1560, 'rich': 1561, 'catalog': 1562, 'jazz': 1563, 'standards': 1564, 'he': 1565, 'grew': 1566, 'playing.': 1567, 'Surrounding': 1568, 'himself': 1569, 'musicians': 1570, 'around,': 1571, 'Larry': 1572, 'relaxed,': 1573, 'focused,': 1574, 'control.': 1575, 'Listen': 1576, 'take': 1577, '\"My': 1578, 'Funny': 1579, 'Valentine\"': 1580, 'stand': 1581, 'Chet': 1582, \"Baker's\": 1583, \"Miles'.\": 1584, \"you'll\": 1585, 'again': 1586, \"Doesn't\": 1587, 'Mac:': 1588, 'says': 1589, 'line': 1590, 'Mac': 1591, 'OS': 1592, 'Windows': 1593, '.': 1594, 'Do': 1595, 'order': 1596, 'Mac!!!!!!!': 1597, 'Frustrating:': 1598, 'My': 1599, 'year': 1600, 'son': 1601, 'attempts': 1602, \"hasn't\": 1603, 'touched': 1604, 'since.': 1605, 'use': 1606, 'mouse': 1607, '\"power-up': 1608, 'segments\"': 1609, 'up-down': 1610, 'arrows': 1611, 'keyboard': 1612, 'too': 1613, 'fun.': 1614, 'disapointed': 1615, 'Mind': 1616, 'numbing:': 1617, 'things': 1618, 'over,': 1619, 'holds': 1620, \"son's\": 1621, 'attention': 1622, 'long': 1623, 'next': 1624, 'level.': 1625, 'There': 1626, 'no': 1627, 'choice': 1628, 'thing': 1629, 'order.': 1630, 'We': 1631, 'Rescue': 1632, 'Heroes': 1633, 'both': 1634, 'it,': 1635, 'dog!': 1636, 'Cannot': 1637, 'recommend:': 1638, 'former': 1639, 'Alaskan,': 1640, 'this.': 1641, 'repeatedly': 1642, 'attempting': 1643, \"Allman's\": 1644, 'recipes': 1645, 'throw': 1646, '8-10': 1647, 'cups': 1648, 'flour': 1649, 'miscellaneous': 1650, 'nearly': 1651, 'time--and': 1652, 'comparing': 1653, 'Ed': 1654, \"Wood's\": 1655, 'flawlessly,': 1656, 'Lisa': 1657, \"Rayner's\": 1658, 'Wild': 1659, 'Bread:': 1660, 'Hand-baked': 1661, 'sourdough': 1662, 'artisan': 1663, 'breads': 1664, 'kitchen,': 1665, 'help': 1666, 'notice': 1667, 'work,': 1668, 'where': 1669, \"fail.I'm\": 1670, 'novice': 1671, 'baker.': 1672, 'worked': 1673, 'reliably': 1674, 'pancakes': 1675, 'recipe,': 1676, 'places': 1677, 'well.If': 1678, 'looking': 1679, 'reliable': 1680, 'concise': 1681, 'information': 1682, 'starting': 1683, 'maintaining': 1684, 'books,': 1685, 'ones.': 1686, 'Rayner': 1687, 'fabulous': 1688, 'tome': 1689, 'Bread.': 1690, 'pass': 1691, 'book.While': 1692, 'historical': 1693, 'interesting--not': 1694, 'warrant': 1695, 'cost': 1696, 'Check': 1697, 'must.': 1698, 'Alaska': 1699, 'sourdough:': 1700, 'REad': 1701, 'visiting': 1702, 'brother': 1703, 'Alaska.': 1704, 'Loved': 1705, 'starter': 1706, 'Book': 1707, 'stories': 1708, 'recipes.': 1709, 'Old': 1710, 'good:': 1711, 'collection': 1712, 'advise': 1713, 'Ruth': 1714, 'picture': 1715, 'past': 1716, '100': 1717, 'ago': 1718, 'mixer': 1719, 'nor': 1720, 'civilized': 1721, 'stuffs': 1722, 'pot': 1723, 'sourdough.': 1724, 'autumn:': 1725, 'daughter': 1726, 'NC,': 1727, 'prefect': 1728, 'bread.': 1729, 'Wish': 1730, 'lived': 1731, 'closer': 1732, 'Fast': 1733, 'mp3': 1734, 'download': 1735, 'waxed': 1736, 'decades': 1737, 'ago:': 1738, 'One': 1739, '26': 1740, 'background': 1741, 'YouTube': 1742, 'gymnastic': 1743, 'dance': 1744, 'feat': 1745, 'Russia.': 1746, 'hunted': 1747, 'melody,': 1748, 'English': 1749, 'lyrics,': 1750, 'see': 1751, 'else': 1752, 'album.': 1753, 'Downloaded': 1754, '$15': 1755, 'via': 1756, 'downloader,': 1757, 'happily': 1758, 'listen': 1759, 'melodies': 1760, '(interspersed)': 1761, 'iPod.': 1762, 'one.:': 1763, 'experience:': 1764, 'FM,': 1765, 'rattled': 1766, 'loudly': 1767, 'sometimes': 1768, '(but': 1769, 'always)': 1770, 'DVD.': 1771, 'several.': 1772, 'quality': 1773, 'screen': 1774, 'thru': 1775, 'middle': 1776, 'away.': 1777, 'Plus': 1778, 'reviewers': 1779, 'dead': 1780, 'layout': 1781, 'sense': 1782, 'all!': 1783, 'engineering,': 1784, 'IMO.': 1785, 'refund.': 1786, 'under': 1787, 'Emerson': 1788, 'name': 1789, '<$400': 1790, 'WM': 1791, 'hesitant': 1792, 'Sylvania': 1793, '6620LDG': 1794, '20\"': 1795, 'Flat': 1796, 'Panel': 1797, 'LCD': 1798, 'TV': 1799, 'Built': 1800, 'player:': 1801, 'Light': 1802, 'weight,': 1803, 'space': 1804, 'saving': 1805, 'attractive': 1806, 'design.': 1807, 'Sharp': 1808, 'Picture,': 1809, 'playback': 1810, 'excellent.': 1811, 'Only': 1812, 'negative': 1813, 'functions': 1814, 'keys': 1815, 'due': 1816, 'color': 1817, 'choices.': 1818, 'placement': 1819, 'almost': 1820, 'illogical': 1821, 'carefully': 1822, 'each': 1823, 'use.': 1824, 'designed': 1825, 'imbecil.': 1826, 'quality,': 1827, 'buy.': 1828, 'TERRIBLE!!': 1829, 'DO': 1830, 'NOT': 1831, 'BUY': 1832, 'THIS:': 1833, 'wife': 1834, 'birthday,and': 1835, 'toreturn': 1836, 'palyer': 1837, 'repalcement,': 1838, 'failed': 1839, 'work!': 1840, 'piece': 1841, 'junk.': 1842, '***': 1843, 'BEWARE': 1844, '***:': 1845, 'capable': 1846, '\"recall\"': 1847, 'function.': 1848, 'flash': 1849, 'channels,': 1850, 'you.': 1851, 'recall': 1852, 'function,': 1853, 'Sony': 1854, 'universal,': 1855, 'remote,': 1856, 'soon': 1857, 'learned': 1858, 'factory': 1859, 'capability': 1860, 'flash-back.': 1861, 'deal': 1862, 'some,': 1863, 'user': 1864, 'annoying.': 1865, 'Kitchen': 1866, 'TV:': 1867, 'replace': 1868, '13\"': 1869, 'tube': 1870, 'tv': 1871, 'kitchen.': 1872, 'gained': 1873, 'larger': 1874, 'plus': 1875, 'relcaiming': 1876, 'counter': 1877, 'space.': 1878, 'good,': 1879, 'internal': 1880, 'bonus.': 1881, 'all,': 1882, 'purchase.': 1883, 'Nice': 1884, 'money:': 1885, 'defective.': 1886, 'purchased': 1887, 'Electronics': 1888, 'Express': 1889, 'contacted': 1890, 'wonderful.': 1891, 'RMA': 1892, 'number': 1893, 'away,': 1894, 'Fedex': 1895, 'picked': 1896, 'arrived': 1897, '1': 1898, 'week': 1899, 'later.': 1900, 'fine.': 1901, 'clarity': 1902, 'picture.': 1903, 'complaint': 1904, 'mode,': 1905, \"isn't\": 1906, 'loud': 1907, 'RV': 1908, 'A/C': 1909, 'running,': 1910, 'barely': 1911, 'solved': 1912, 'running': 1913, 'jack': 1914, 'stereo': 1915, 'speaker': 1916, 'lightweight': 1917, 'bonus': 1918, 'RV.': 1919, 'great,': 1920, 'video/audio': 1921, 'jacks': 1922, 'antenna': 1923, 'player.': 1924, 'price.': 1925, 'Disappointed': 1926, 'Romanian!:': 1927, 'opinion': 1928, 'biased': 1929, 'angle': 1930, 'Europe': 1931, '\"clean': 1932, 'proper\"': 1933, 'fails': 1934, 'shed': 1935, 'understand': 1936, '\"tourist': 1937, 'guides\"': 1938, 'why': 1939, 'tour': 1940, 'country': 1941, 'forgotten': 1942, 'Romanian': 1943, 'reference.': 1944, 'travel': 1945, 'guides': 1946, 'outlining': 1947, 'exclude': 1948, 'Romania': 1949, 'before,': 1950, 'precision': 1951, 'detail': 1952, \"DK's\": 1953, 'disappointment.': 1954, 'guide': 1955, 'Europe!:': 1956, 'realy': 1957, 'everybody': 1958, 'Europe.': 1959, 'combination': 1960, 'pictures,': 1961, 'illustration': 1962, 'texts': 1963, 'perfect.': 1964, 'overall': 1965, 'sights,': 1966, 'places,': 1967, 'cities': 1968, 'countries': 1969, 'information.': 1970, 'European': 1971, 'traveled': 1972, 'go.': 1973, 'Thank': 1974, 'Eyewitness': 1975, 'Travel': 1976, 'books!': 1977, 'best:': 1978, 'lonely': 1979, 'planet': 1980, 'pictures': 1981, 'info': 1982, 'ended': 1983, 'buying': 1984, 'indiv': 1985, 'city': 1986, 'surface!': 1987, 'received': 1988, 'defective': 1989, 'moving': 1990, 'Germany': 1991, 'wanted': 1992, 'overview': 1993, 'too.': 1994, 'pages': 1995, '457-480': 1996, 'Greece': 1997, 'Spanish.': 1998, 'sort': 1999, 'printing': 2000, 'problem!': 2001, 'highlights': 2002, 'countries.': 2003, 'From': 2004, 'Label::': 2005, 'Memphis,': 2006, 'TN.': 2007, 'Reatards,': 2008, 'fronted,': 2009, 'course,': 2010, 'wild': 2011, 'kid': 2012, 'Jay': 2013, 'Reatard.': 2014, 'He': 2015, 'Eric': 2016, 'Oblivians': 2017, 'label,': 2018, 'Goner,': 2019, 'tender': 2020, 'age': 2021, '15.': 2022, 'Jay,': 2023, '19,': 2024, 'rocking': 2025, 'offending': 2026, 'sensibilities': 2027, 'community.': 2028, 'Overdriven,': 2029, 'loud,': 2030, 'crackling': 2031, 'underlaying': 2032, \"Jay's\": 2033, 'southern': 2034, 'crooning': 2035, 'howl': 2036, 'energizes': 2037, 'hate-filled': 2038, \"we've\": 2039, 'Either': 2040, 'Stars.': 2041, 'Depends': 2042, 'it.:': 2043, 'it.1': 2044, 'Star': 2045, 'sent': 2046, 'feet': 2047, '2\"': 2048, 'OD': 2049, 'copper': 2050, 'pipe.0': 2051, 'accept': 2052, 'returns': 2053, 'it.5': 2054, 'figure': 2055, '$12-15/foot': 2056, 'sell': 2057, '$40-50': 2058, 'Hunting': 2059, 'Hard': 2060, 'Way:': 2061, 'Thia': 2062, 'gift': 2063, 'Husband,': 2064, 'date': 2065, 'would.': 2066, 'Disappointing:': 2067, 'text': 2068, 'think),': 2069, 'plates': 2070, 'markedly': 2071, 'inferior': 2072, 'previous': 2073, 'editions.': 2074, 'Had': 2075, 'known': 2076, 'ahead': 2077, 'volume.': 2078, 'Homer': 2079, 'Moses?:': 2080, 'An': 2081, 'helpful': 2082, 'gem': 2083, 'complex': 2084, 'subject': 2085, 'second': 2086, 'century': 2087, 'religious': 2088, 'authority': 2089, 'textual': 2090, 'serious': 2091, 'period': 2092, 'interelation': 2093, 'cultures,': 2094, 'essential.': 2095, 'detailed?': 2096, 'argue': 2097, 'Should': 2098, 'it?': 2099, 'Yes,': 2100, 'library.': 2101, 'disagreeing': 2102, 'above.': 2103, 'quality.:': 2104, 'cardboard': 2105, 'beat': 2106, 'itself': 2107, 'lightweight,': 2108, 'cheesy': 2109, 'looking.': 2110, '\"finish\"': 2111, 'worn': 2112, 'across': 2113, 'entire': 2114, 'screen.': 2115, 'solid': 2116, 'brass,': 2117, 'decent': 2118, 'distance': 2119, 'paid.': 2120, 'Scraped': 2121, 'top.:': 2122, 'Purchased': 2123, 'noticeable': 2124, 'scrapes': 2125, 'top.': 2126, 'gigantic': 2127, 'plenty': 2128, 'material,': 2129, 'loosely': 2130, 'bottom.': 2131, 'box,': 2132, 'scraping': 2133, 'with,': 2134, 'shipping.': 2135, 'Still': 2136, 'exchanging': 2137, 'said': 2138, 'damage.': 2139, 'risk': 2140, 'damage': 2141, 'now.': 2142, 'Other': 2143, 'damage,': 2144, 'nice': 2145, 'unknown': 2146, 'Africa:': 2147, 'expect': 2148, 'africa': 2149, 'profesionally': 2150, 'produced.': 2151, 'Me': 2152, 'world,': 2153, 'mixture': 2154, 'salsa,': 2155, 'soukous': 2156, 'fado': 2157, 'african': 2158, 'feeling': 2159, 'rithem.': 2160, 'soft': 2161, 'borred': 2162, 'voice': 2163, 'Oliver': 2164, \"N'goma\": 2165, 'fits': 2166, 'pefectly': 2167, 'recorded': 2168, 'France': 2169, 'Paris,': 2170, 'professionals': 2171, 'working': 2172, 'hot,': 2173, 'lazy': 2174, 'night.greetings': 2175, 'Arno,': 2176, 'Amsterdam': 2177, \"Didn't\": 2178, 'expectations.:': 2179, 'shoes': 2180, 'ripped': 2181, 'apart': 2182, 'sole.': 2183, 'Clark': 2184, 'shoe': 2185, 'Sadly,': 2186, 'place': 2187, 'within': 2188, 'months.': 2189, 'similar': 2190, 'Sperry': 2191, 'holding': 2192, 'better.': 2193, 'Profound': 2194, 'then.': 2195, 'Truly': 2196, 'now.:': 2197, 'narrative': 2198, 'style': 2199, 'famous': 2200, \"founders'\": 2201, 'biographer': 2202, 'John': 2203, 'Morse': 2204, 'arrogant,': 2205, 'flippant': 2206, 'frequently': 2207, 'exaggerated.': 2208, 'carries': 2209, 'tone': 2210, 'amateur': 2211, 'Yankee': 2212, 'historian': 2213, 'high,': 2214, 'passing': 2215, 'judgment': 2216, 'statesman': 2217, 'neither': 2218, 'Boston': 2219, 'Harvard': 2220, 'graduate.': 2221, 'Perhaps': 2222, 'considered': 2223, 'penetrating': 2224, 'day,': 2225, 'represents': 2226, 'nothing': 2227, 'today.': 2228, 'research': 2229, 'thin': 2230, 'conclude': 2231, 'manuscript': 2232, 'essentially': 2233, 'memory,': 2234, 'reference': 2235, 'primary': 2236, 'secondary': 2237, 'sources': 2238, 'historians': 2239, \"weren't\": 2240, '110': 2241, 'ago,': 2242, 'rated': 2243, 'star.': 2244, 'Definitely': 2245, 'enjoyed!:': 2246, 'yr': 2247, 'daughter.': 2248, 'She': 2249, 'Barbie': 2250, 'fan': 2251, 'loves': 2252, 'computer.': 2253, 'enjoying': 2254, 'game.': 2255, 'completed': 2256, 'worried': 2257, 'first,': 2258, 'enjoyable': 2259, 'colors': 2260, 'vibrant.': 2261, 'friendly': 2262, 'also....my': 2263, 'started': 2264, 'Mommy': 2265, 'fun': 2266, 'one!:': 2267, 'Rapunzel': 2268, 'tons': 2269, 'fun,': 2270, '42': 2271, 'old.': 2272, 'together.': 2273, 'decorating': 2274, 'rooms': 2275, 'finding': 2276, 'gems.': 2277, 'is,': 2278, 'play': 2279, 'alone': 2280, 'time!': 2281, 'creativity': 2282, 'adventure:': 2283, 'addicted': 2284, 'opening': 2285, 'singing': 2286, 'non': 2287, 'stop.': 2288, 'completes': 2289, 'finds': 2290, 'solving': 2291, 'maze': 2292, 'Prince': 2293, 'Stefan.': 2294, 'sings': 2295, 'head!': 2296, 'Rapunzel:': 2297, '7': 2298, 'choices': 2299, 'all!!': 2300, '[Not': 2301, 'expected]:': 2302, '...': 2303, 'took': 2304, 'Absolutely': 2305, 'challenge,': 2306, 'interaction.': 2307, 'clicking': 2308, '8': 2309, 'programmed.': 2310, 'play,': 2311, 'do.': 2312, 'Save': 2313, 'barbie': 2314, 'rapunzel': 2315, '=': 2316, 'crying': 2317, 'child:': 2318, '6-year': 2319, 'currently': 2320, 'sobbing': 2321, 'bedroom': 2322, 'result': 2323, 'rotten': 2324, 'game.She': 2325, 'hour': 2326, 'painting': 2327, 'coloring': 2328, 'flowers.': 2329, 'halfway': 2330, 'program': 2331, 'hung,': 2332, 'leave': 2333, 'click': 2334, 'else.': 2335, 'Now': 2336, 'exit': 2337, 'frozen': 2338, 'spot': 2339, \"Barbie's\": 2340, 'disembodied': 2341, 'urges': 2342, '\"explore': 2343, 'somewhere': 2344, 'castle.\"Standard': 2345, 'software': 2346, 'troubleshooting': 2347, 'rebooting': 2348, 'Vivendi': 2349, \"Games'\": 2350, 'site': 2351, '\"currently': 2352, 'disabled.\"': 2353, 'weeping,': 2354, 'frustrating': 2355, 'child': 2356, 'fault': 2357, 'hoping': 2358, 'incompetent': 2359, \"couldn't\": 2360, 'catch': 2361, 'bug': 2362, 'caught': 2363, 'Or': 2364, 'care': 2365, 'problems,': 2366, '20': 2367, 'bucks.': 2368, 'girl,': 2369, 'avoid': 2370, 'game!': 2371, 'Creative': 2372, 'Adventure:': 2373, 'granddaughter': 2374, 'much.': 2375, 'lets': 2376, 'sometimes,': 2377, 'come': 2378, 'with.': 2379, 'plan': 2380, 'programs': 2381, 'her.': 2382, 'Use': 2383, 'imagination!:': 2384, '&': 2385, 'software.': 2386, 'fight': 2387, 'paint': 2388, 'choose': 2389, 'themes': 2390, 'room.': 2391, 'allows': 2392, 'creative': 2393, 'imagination': 2394, '\"decorating\"': 2395, 'castle': 2396, 'gems': 2397, \"prince's\": 2398, 'crown': 2399, 'power': 2400, 'Stephan': 2401, 'stone': 2402, 'bring': 2403, 'life.': 2404, 'animation': 2405, 'seen.': 2406, 'Most': 2407, 'kids': 2408, 'boring': 2409, 'adult,': 2410, 'her!': 2411, 'variations': 2412, 'schemes': 2413, 'patterns': 2414, 'bored.': 2415, 'highly': 2416, 'girls': 2417, 'ages.': 2418, 'rental!:': 2419, 'exciting': 2420, 'kind.': 2421, '\"castle\"': 2422, '\"decorate\"': 2423, 'done': 2424, 'basically': 2425, 'either': 2426, 'username': 2427, 'yourself': 2428, 'did.': 2429, 'sister': 2430, 'anymore.': 2431, 'X': 2432, 'MAC': 2433, 'CLASSIC:': 2434, 'NEGATIVE:': 2435, 'requires': 2436, 'multiple': 2437, 'computers.': 2438, 'slow': 2439, 'lot,': 2440, 'access': 2441, 'everytime': 2442, 'task.': 2443, 'openning': 2444, 'sequence': 2445, 'throwing': 2446, 'saved': 2447, 'files.': 2448, 'Some': 2449, 'tasks': 2450, 'controls': 2451, 'adults.it': 2452, 'CRASHES': 2453, 'time.Mouse': 2454, 'jumpy': 2455, 'use.POSITIVE:': 2456, 'easy,': 2457, 'possible': 2458, 'use,': 2459, 'grand': 2460, 'beautiful.My': 2461, 'patience': 2462, 'survive': 2463, 'trials': 2464, 'Bad': 2465, 'Deal!!:': 2466, 'substitute': 2467, 'Importcds': 2468, '(the': 2469, 'Vendor).': 2470, 'recieve': 2471, 'feedback.': 2472, 'rate': 2473, 'bother': 2474, 'orginally': 2475, 'future': 2476, 'person': 2477, 'and/or': 2478, 'persons': 2479, 'from.': 2480, 'company.': 2481, 'mistake': 2482, 'but,': 2483, 'businees': 2484, 'sense.': 2485, 'spend': 2486, 'hundreds': 2487, 'dollars': 2488, 'month': 2489, 'Amazon.com': 2490, 'building': 2491, 'collection.': 2492, 'careful': 2493, 'future.': 2494, 'Smells': 2495, 'divine.:': 2496, 'bottle': 2497, 'freesia,': 2498, 'fragrance,': 2499, 'delicate': 2500, 'sent,': 2501, 'beautiful,': 2502, 'summer': 2503, 'disappointed!:': 2504, 'perfume': 2505, 'AWFUL!': 2506, 'freesia.The': 2507, 'recipient': 2508, 'impressed.': 2509, 'worst': 2510, 'returned!': 2511, 'Creepy:': 2512, 'Wow,': 2513, 'jealousy': 2514, 'revenge': 2515, 'doors': 2516, 'open,': 2517, 'prepared': 2518, 'it!': 2519, 'existent:': 2520, 'While': 2521, 'didnt': 2522, '\"non': 2523, 'existent\"': 2524, 'Thai': 2525, 'soundtrack.': 2526, 'option': 2527, 'disc': 2528, 'menu': 2529, '(as': 2530, 'stated': 2531, 'package)': 2532, 'exist.': 2533, 'No': 2534, 'matter': 2535, 'choose,': 2536, 'English,': 2537, 'exceptions': 2538, 'dubbing': 2539, 'ridiculous': 2540, 'title': 2541, 'sub': 2542, 'par.': 2543, 'covers': 2544, 'remain': 2545, 'dvd': 2546, 'Its': 2547, 'shame': 2548, 'sham': 2549, 'original': 2550, 'not.': 2551, 'offering': 2552, 'Tokyo': 2553, 'Shock.': 2554, 'Sooo': 2555, \"JAMMIN',\": 2556, 'trill:': 2557, 'Man,': 2558, 'jammin': 2559, 'SUC.': 2560, \"Pokey's\": 2561, 'official': 2562, 'record....and': 2563, 'sh**': 2564, 'sooo': 2565, 'real.': 2566, 'Love': 2567, 'production,': 2568, 'real': 2569, 'screwed': 2570, 'SUC': 2571, 'records.': 2572, \"they've\": 2573, 'fallen': 2574, 'off....just': 2575, 'downsized': 2576, 'deaths': 2577, 'screw': 2578, 'pioneers.': 2579, 'Sad': 2580, 'ya': 2581, 'Tx': 2582, 'rap,': 2583, 'gotta': 2584, '1.': 2585, 'Somethin': 2586, 'kickback': 2587, 'blow': 2588, 'somethin': 2589, 'jam': 2590, 'ride.': 2591, 'underrated,': 2592, 'forget': 2593, 'bullsh**': 2594, 'BET/MTV': 2595, \"what's\": 2596, 'Houston.': 2597, \"guess...it's\": 2598, 'sadly': 2599, 'late.': 2600, \"Pat's\": 2601, 'gone,': 2602, \"hawk's\": 2603, 'gone...screw,': 2604, 'Moe,': 2605, 'Pimp': 2606, 'C,': 2607, 'Big': 2608, 'Steve.': 2609, 'Makes': 2610, 'sad.': 2611, 'Regardless,': 2612, 'Pokey': 2613, 'alive': 2614, 'keeping': 2615, 'legacy': 2616, 'alive.': 2617, 'Classic': 2618, 'record.': 2619, 'Dirty': 2620, 'South:': 2621, 'southside': 2622, 'Pretty': 2623, 'guest': 2624, 'track.': 2625, 'Fat': 2626, 'Pat,': 2627, 'Botany': 2628, 'Boys,': 2629, 'Mr.': 2630, '3-2,': 2631, 'Steve,': 2632, 'Chris': 2633, 'Ward,': 2634, 'H.A.W.K,': 2635, 'Well': 2636, 'chronicles': 2637, 'Farm': 2638, 'photos': 2639, 'well.I': 2640, 'photo': 2641, 'then-wife,': 2642, 'shewas': 2643, ':-)': 2644, 'farm:': 2645, 'copy': 2646, 'wait': 2647, 'til': 2648, 'revised': 2649, 'version': 2650, 'weeks': 2651, 'Little': 2652, 'maid': 2653, 'Israel:': 2654, 'Bill': 2655, 'Harvey': 2656, 'history': 2657, 'awakens': 2658, 'possiblility': 2659, 'relationship': 2660, 'faithfulness': 2661, 'ancient': 2662, 'times.': 2663, 'Young': 2664, 'ages': 2665, '5-15': 2666, 'treasures,': 2667, 'Keeper': 2668, 'Drew': 2669, 'Air:': 2670, 'drew': 2671, 'air': 2672, 'bad.': 2673, 'idea': 2674, 'draw': 2675, 'air.': 2676, 'comfy,warm..': 2677, 'run': 2678, 'big:': 2679, 'says.': 2680, 'Warm,': 2681, 'comfy': 2682, 'big.': 2683, 'lounging,': 2684, 'me.': 2685, 'Beware!!:': 2686, 'cake': 2687, 'topper': 2688, 'June': 2689, '27,': 2690, '2010.': 2691, 'given': 2692, 'estimated': 2693, 'shipping': 2694, 'July': 2695, '1-7,': 2696, 'dates': 2697, 'went': 2698, 'topper.': 2699, 'seller': 2700, 'response.': 2701, 'filed': 2702, 'claim': 2703, 'receiving': 2704, '16,': 2705, '2010;': 2706, 'however,': 2707, 'ordered!': 2708, 'refund': 2709, 'apologized': 2710, 'mishap.': 2711, 'anything': 2712, \"seller's\": 2713, 'feedback': 2714, 'wrong,': 2715, 'buyer': 2716, 'beware!!': 2717, 'Ariel': 2718, 'Litte': 2719, 'Mermaid': 2720, 'pearl': 2721, 'kit:': 2722, 'Arrived': 2723, 'cute': 2724, 'however': 2725, 'provide': 2726, 'instructions!!!!': 2727, 'reviews....': 2728, 'THIS!!': 2729, 'annoyed': 2730, 'decorate': 2731, 'cake.': 2732, 'included': 2733, 'trust': 2734, 'seller:': 2735, 'Promised': 2736, '\"Complete': 2737, 'Instructions\"': 2738, 'additional': 2739, 'pledge': 2740, '\"Sweet': 2741, 'Graces': 2742, 'email': 2743, 'Supply': 2744, 'List': 2745, 'Instruction': 2746, 'sheets': 2747, 'ready': 2748, 'time!\"': 2749, 'figurine': 2750, 'bracelet.': 2751, 'boot,': 2752, 'contact': 2753, 'seller.': 2754, 'phone': 2755, 'manufacturer.': 2756, \"Let's\": 2757, 'yields': 2758, 'results.': 2759, 'Meanwhile,': 2760, 'wishing': 2761, 'unreliable': 2762, ':/': 2763, 'Why': 2764, 'SOULWAX': 2765, 'ignored': 2766, 'critics': 2767, 'consumers': 2768, 'alike?!:': 2769, '90s,': 2770, 'released': 2771, '\"rock\"': 2772, 'debut': 2773, '(on': 2774, 'defunct': 2775, 'Almo': 2776, 'Sounds),': 2777, 'chock': 2778, 'should-have-been': 2779, 'radio': 2780, 'hits,': 2781, '\"2': 2782, 'Many': 2783, 'DJs\"': 2784, 'mash-up/remix': 2785, 'bootlegs,': 2786, 'full-fledged': 2787, 'band,': 2788, \"year's\": 2789, 'ANY': 2790, 'MINUTE': 2791, 'NOW,': 2792, 'critcs': 2793, 'alike': 2794, \"album's\": 2795, 'writing,': 2796, 'electro-rock': 2797, 'power.': 2798, 'Hopefully,': 2799, '\"Nite': 2800, 'Versions\"': 2801, '(a': 2802, 'cheeky': 2803, 'recalling': 2804, 'bands': 2805, 'Duran': 2806, 'release': 2807, 'Version\"': 2808, '12\"': 2809, 'singles': 2810, 'clubs)': 2811, 'garner': 2812, 'sales': 2813, 'practically': 2814, 'leap': 2815, 'speakers': 2816, 'grab': 2817, 'neck': 2818, 'head': 2819, 'move.': 2820, \"Can't\": 2821, 'TIGA': 2822, 'upcoming': 2823, '\"Sexor\"': 2824, 'debut...?': 2825, 'OMG': 2826, 'Soulwax': 2827, 'owns:': 2828, 'wow': 2829, 'rocks...specially1)': 2830, 'E-talking2)': 2831, 'NyLipps3)': 2832, 'Techo.great': 2833, 'guysMusicChoice': 2834, 'Saturday': 2835, 'night..and': 2836, 'jamming': 2837, '\"wow\".one': 2838, 'thing,': 2839, \"you're\": 2840, 'House/Techno/electronic': 2841, 'this,': 2842, 'cause': 2843, 'Slow': 2844, 'dull': 2845, '\"classical\"': 2846, \"1980's\": 2847, 'movie:': 2848, 'Jason': 2849, 'Bateman': 2850, 'lead.': 2851, 'moments': 2852, 'relief': 2853, 'annoying)': 2854, 'minimum.': 2855, 'Though': 2856, 'action/suspense': 2857, 'movie,': 2858, 'achieves': 2859, 'neither.': 2860, 'suggest': 2861, 'skipping': 2862, 'Releasing': 2863, 'it!!!!!:': 2864, 'powers': 2865, 'finally!': 2866, \"80's\": 2867, 'Worth': 2868, 'Time:': 2869, 'wriiten': 2870, 'horribly.': 2871, 'lacked': 2872, 'mystery': 2873, 'culprit': 2874, 'was.': 2875, 'ten': 2876, 'twelve': 2877, 'pages.': 2878, 'educational:': 2879, 'Trains,': 2880, 'shapes': 2881, 'pegs': 2882, 'winning': 2883, 'combination,': 2884, 'guaranteed': 2885, 'parent': 2886, 'puzzle': 2887, 'range.': 2888, 'Ludicrous': 2889, 'silly:': 2890, 'faintly': 2891, 'Basically,': 2892, 'entertain': 2893, 'lots': 2894, 'odd': 2895, 'ideas': 2896, 'theories,': 2897, 'silly.': 2898, 'Artistry:': 2899, 'Deodato': 2900, 'concerts': 2901, 'rich,': 2902, 'strings': 2903, 'band': 2904, 'musicians,': 2905, 'appreciate': 2906, 'Tropea': 2907, 'excelent': 2908, 'renditions': 2909, 'guitar.': 2910, 'Caution!:': 2911, 'These': 2912, '\"original\"': 2913, 'versions': 2914, 're-recorded': 2915, 'versions.': 2916, 'So,': 2917, '\"remastered\"': 2918, 'irrelevant.': 2919}\n",
            "Length: 2919\n"
          ],
          "name": "stdout"
        }
      ]
    },
    {
      "cell_type": "code",
      "metadata": {
        "id": "jB7wxoZVuGdm",
        "colab_type": "code",
        "outputId": "529eb88f-2054-4a91-cd20-9ccc64e1c230",
        "colab": {
          "base_uri": "https://localhost:8080/",
          "height": 34
        }
      },
      "source": [
        "print(results.shape)"
      ],
      "execution_count": 40,
      "outputs": [
        {
          "output_type": "stream",
          "text": [
            "(100, 10, 2920)\n"
          ],
          "name": "stdout"
        }
      ]
    },
    {
      "cell_type": "markdown",
      "metadata": {
        "id": "vAhY0Sb5JTC1",
        "colab_type": "text"
      },
      "source": [
        "# **2) Also, provide one-hot coding using Keras built-in function (listing 6.3)**"
      ]
    },
    {
      "cell_type": "code",
      "metadata": {
        "id": "uRpnB3qUJ1-d",
        "colab_type": "code",
        "colab": {}
      },
      "source": [
        "samples = texts[:100] # using only first 100 reviews"
      ],
      "execution_count": 0,
      "outputs": []
    },
    {
      "cell_type": "code",
      "metadata": {
        "id": "OhrTn1DRJYwO",
        "colab_type": "code",
        "outputId": "ee31364d-7c40-4cb4-8ae7-1af72dcf4dae",
        "colab": {
          "base_uri": "https://localhost:8080/",
          "height": 71
        }
      },
      "source": [
        "from tensorflow.keras.preprocessing.text import Tokenizer\n",
        "\n",
        "\n",
        "tokenizer = Tokenizer(num_words=1000)\n",
        "tokenizer.fit_on_texts(samples)\n",
        "\n",
        "sequences = tokenizer.texts_to_sequences(samples)\n",
        "\n",
        "one_hot_results = tokenizer.texts_to_matrix(samples, mode='binary')\n",
        "\n",
        "word_index = tokenizer.word_index\n",
        "\n",
        "print(word_index)\n",
        "print(f'Found {len(word_index)} unique tokens.')"
      ],
      "execution_count": 42,
      "outputs": [
        {
          "output_type": "stream",
          "text": [
            "{'the': 1, 'i': 2, 'and': 3, 'to': 4, 'a': 5, 'of': 6, 'it': 7, 'is': 8, 'this': 9, 'in': 10, 'you': 11, 'that': 12, 'for': 13, 'not': 14, 'on': 15, 'my': 16, 'but': 17, 'was': 18, 'have': 19, 'with': 20, 'book': 21, 'are': 22, 'so': 23, 'all': 24, 'one': 25, 'as': 26, 'very': 27, 'be': 28, 'from': 29, 'game': 30, 'at': 31, 'if': 32, 'me': 33, 'great': 34, 'they': 35, 'up': 36, 'has': 37, 'time': 38, 'just': 39, 'out': 40, 'read': 41, 'or': 42, 'get': 43, 'dvd': 44, 'would': 45, 'an': 46, 'like': 47, 'what': 48, 'music': 49, 'good': 50, 'only': 51, 'there': 52, 'she': 53, 'do': 54, 'who': 55, 'more': 56, 'by': 57, 'some': 58, 'even': 59, 'now': 60, 'when': 61, 'can': 62, \"don't\": 63, 'old': 64, 'your': 65, 'been': 66, 'much': 67, 'love': 68, 'best': 69, \"i'm\": 70, 'work': 71, 'no': 72, 'cd': 73, \"can't\": 74, \"it's\": 75, 'will': 76, 'we': 77, 'bought': 78, 'had': 79, 'while': 80, 'tv': 81, 'want': 82, 'because': 83, 'make': 84, 'movie': 85, 'any': 86, 'which': 87, 'never': 88, 'then': 89, 'played': 90, 'buy': 91, 'down': 92, 'after': 93, 'them': 94, 'about': 95, 'did': 96, 'also': 97, 'same': 98, 'year': 99, 'well': 100, 'soundtrack': 101, 'reviews': 102, 'could': 103, 'should': 104, 'another': 105, 'loved': 106, 'again': 107, 'over': 108, 'big': 109, 'than': 110, 'use': 111, 'daughter': 112, 'screen': 113, 'must': 114, 'going': 115, 'most': 116, 'how': 117, 'am': 118, 'bad': 119, 'back': 120, 'first': 121, \"didn't\": 122, 'their': 123, 'her': 124, 'too': 125, 'mix': 126, 'since': 127, 'player': 128, '2': 129, '1': 130, 'ever': 131, 'years': 132, 'pretty': 133, 'say': 134, 'money': 135, 'every': 136, 'star': 137, 'stars': 138, 'excellent': 139, '5': 140, 'thing': 141, 'into': 142, 'amazon': 143, 'go': 144, 'always': 145, 'still': 146, 'these': 147, 'however': 148, 'around': 149, 'other': 150, 'new': 151, 'got': 152, 'its': 153, 'amazing': 154, 'two': 155, 'off': 156, 'know': 157, 'his': 158, 'whole': 159, '3': 160, 'written': 161, 'enough': 162, 'found': 163, 'thought': 164, 'put': 165, 'nothing': 166, 'day': 167, 'real': 168, 'really': 169, 'set': 170, 'find': 171, 'batteries': 172, 'little': 173, 'remote': 174, 'playing': 175, 'seller': 176, 'fun': 177, 'loves': 178, 'sound': 179, 'people': 180, 'anyone': 181, 'reading': 182, 'lot': 183, 'bit': 184, 'price': 185, 'worth': 186, '6': 187, 'life': 188, 'three': 189, 'song': 190, 'story': 191, 'least': 192, 'once': 193, 'few': 194, 'were': 195, 'romance': 196, 'easy': 197, 'keep': 198, 'poor': 199, 'disappointed': 200, 'makes': 201, 'castle': 202, 'think': 203, 'young': 204, 'right': 205, 'stockings': 206, 'nice': 207, 'full': 208, 'both': 209, 'hard': 210, 'album': 211, 'problem': 212, \"doesn't\": 213, 'audio': 214, 'hotel': 215, 'show': 216, 'recommend': 217, 'ordered': 218, 'sourdough': 219, 'europe': 220, 'play': 221, 'software': 222, 'away': 223, 'feel': 224, \"you've\": 225, 'tracks': 226, 'heard': 227, 'give': 228, 'video': 229, 'here': 230, 'between': 231, 'god': 232, 'those': 233, 'songs': 234, 'actually': 235, 'everything': 236, 'beware': 237, 'why': 238, 'family': 239, 'believe': 240, 'true': 241, 'expected': 242, 'used': 243, 'waste': 244, 'him': 245, 'guess': 246, 'kitchen': 247, 'through': 248, '15': 249, 'looked': 250, 'fine': 251, 'help': 252, 'smaller': 253, 'better': 254, 'cookie': 255, 'seen': 256, 'comes': 257, 'four': 258, \"won't\": 259, 'instructions': 260, 'does': 261, 'purchase': 262, 'vcr': 263, 'many': 264, 'happy': 265, 'room': 266, 'box': 267, 'making': 268, 'recipes': 269, 'picture': 270, 'each': 271, 'deal': 272, 'understand': 273, 'travel': 274, 'barbie': 275, 'rapunzel': 276, 'topper': 277, 'non': 278, 'chrono': 279, 'cross': 280, 'games': 281, 'girl': 282, 'probably': 283, 'wish': 284, 'sea': 285, 'dreamers': 286, 'without': 287, 'heart': 288, 'quite': 289, 'kind': 290, 'maybe': 291, 'stay': 292, 'missing': 293, 'let': 294, 'made': 295, 'wanting': 296, 'author': 297, 'end': 298, 'clear': 299, 'writing': 300, 'decided': 301, 'us': 302, 'hear': 303, 'man': 304, 'compression': 305, 'wear': 306, '20': 307, 'tried': 308, \"i've\": 309, 'top': 310, 'store': 311, 'need': 312, 'pair': 313, 'title': 314, 'light': 315, 'dull': 316, 'none': 317, 'view': 318, 'charger': 319, 'lights': 320, 'hours': 321, \"wouldn't\": 322, 'muslim': 323, 'jvc': 324, 'return': 325, 'system': 326, 'came': 327, 'cable': 328, 'control': 329, 'look': 330, 'before': 331, 'bbc': 332, \"wasn't\": 333, 'last': 334, 'our': 335, 'response': 336, 'looking': 337, 'mac': 338, 'english': 339, 'quality': 340, 'almost': 341, 'purchased': 342, 'contacted': 343, 'arrived': 344, 'pictures': 345, 'received': 346, 'figure': 347, 'gift': 348, 'style': 349, 'slow': 350, 'cake': 351, 'soulwax': 352, 'track': 353, 'beautiful': 354, 'listen': 355, 'figured': 356, \"i'd\": 357, 'write': 358, 'review': 359, \"mitsuda's\": 360, 'hope': 361, \"time's\": 362, 'scar': 363, 'absolutely': 364, 'sure': 365, 'twice': 366, 'truly': 367, 'enjoy': 368, 'disk': 369, 'radical': 370, 'remember': 371, 'single': 372, 'perfect': 373, 'wrote': 374, 'whether': 375, 'fast': 376, 'buyer': 377, 'perhaps': 378, 'herself': 379, 'worst': 380, 'unless': 381, 'someone': 382, 'wicked': 383, 'saints': 384, 'world': 385, 'wonderful': 386, 'told': 387, 'instead': 388, 'books': 389, 'felt': 390, 'cover': 391, 'left': 392, 'soon': 393, 'complete': 394, 'totally': 395, 'plot': 396, 'paid': 397, 'next': 398, 'several': 399, 'quick': 400, 'something': 401, 'night': 402, 'yet': 403, 'human': 404, 'fact': 405, 'please': 406, 'others': 407, 'wait': 408, 'point': 409, 'seems': 410, 'age': 411, 'person': 412, 'anymore': 413, 'might': 414, '4': 415, 'white': 416, 'jobst': 417, 'ultrasheer': 418, 'gone': 419, 'support': 420, 'works': 421, 'product': 422, 'getting': 423, 'begin': 424, 'such': 425, 'sheer': 426, 'check': 427, 'model': 428, 'may': 429, 'standard': 430, 'plastic': 431, 'copy': 432, 'film': 433, 'scenes': 434, 'early': 435, 'library': 436, 'japanese': 437, 'culture': 438, 'seem': 439, 'listened': 440, 'charging': 441, 'charge': 442, 'buttons': 443, 'done': 444, 'returned': 445, 'thinking': 446, 'kept': 447, 'excited': 448, 'live': 449, 'things': 450, 'claims': 451, 'rest': 452, 'vhs': 453, 'start': 454, 'disc': 455, 'move': 456, 'boys': 457, 'input': 458, 'wife': 459, 'tell': 460, 'behind': 461, 'notice': 462, 'interesting': 463, 'watch': 464, 'already': 465, 'sounds': 466, 'southern': 467, 'cha': 468, 'label': 469, 'late': 470, 'he': 471, 'says': 472, 'os': 473, 'order': 474, 'son': 475, 'power': 476, 'attention': 477, 'long': 478, 'wild': 479, 'bread': 480, 'places': 481, 'alaska': 482, 'stories': 483, 'ago': 484, 'see': 485, 'else': 486, 'sometimes': 487, 'sense': 488, 'recall': 489, 'user': 490, 'rv': 491, 'running': 492, 'opinion': 493, 'combination': 494, 'countries': 495, 'either': 496, 'previous': 497, 'second': 498, 'across': 499, 'damage': 500, 'expect': 501, 'morse': 502, 'decorating': 503, '7': 504, 'took': 505, 'child': 506, 'creative': 507, 'come': 508, 'basically': 509, 'feedback': 510, 'wow': 511, 'thai': 512, 'alive': 513, 'air': 514, '2010': 515, 'versions': 516, \"1980's\": 517, 'mind': 518, 'hate': 519, 'takes': 520, 'guitars': 521, 'anything': 522, 'yasunori': 523, 'masterpiece': 524, 'favorite': 525, 'prisoners': 526, 'fate': 527, 'distant': 528, 'important': 529, 'inspiration': 530, 'chronomantique': 531, \"haven't\": 532, 'ancient': 533, 'home': 534, 'likes': 535, 'dragon': 536, 'jewel': 537, 'overall': 538, 'brought': 539, 'pull': 540, 'divine': 541, 'doubt': 542, 'paper': 543, 'absolute': 544, 'mood': 545, 'minute': 546, 'composed': 547, 'forget': 548, 'beautifully': 549, 'ms': 550, 'friends': 551, 'spent': 552, 'definitely': 553, 'grade': 554, 'haddon': 555, 'anyway': 556, 'send': 557, 'far': 558, 'whisper': 559, 'surprised': 560, 'novels': 561, 'brilliant': 562, 'five': 563, 'finished': 564, 'lover': 565, 'fool': 566, 'follow': 567, 'gotten': 568, 'enjoyable': 569, 'grammar': 570, 'add': 571, 'boy': 572, 'showed': 573, 'side': 574, 'turned': 575, 'oh': 576, 'trouble': 577, 'featured': 578, 'removed': 579, 're': 580, 'beginning': 581, 'glad': 582, '10': 583, 'awful': 584, 'reviewer': 585, 'house': 586, 'hand': 587, 'horrible': 588, 'zen': 589, 'comedy': 590, 'cool': 591, 'plays': 592, 'often': 593, 'interaction': 594, 'salsa': 595, 'gets': 596, 'gave': 597, 'needed': 598, 'though': 599, 'problems': 600, 'rolling': 601, 'thigh': 602, 'having': 603, 'skin': 604, 'high': 605, 'create': 606, 'sizes': 607, 'recomended': 608, 'size': 609, 'chart': 610, 'item': 611, 'ok': 612, 'alot': 613, 'job': 614, 'gives': 615, 'funny': 616, 'quickly': 617, 'packaged': 618, 'cookies': 619, 'dough': 620, 'extremely': 621, 'ingredients': 622, 'baked': 623, 'scratches': 624, 'packaging': 625, 'visuals': 626, 'surrounding': 627, 'memory': 628, 'winning': 629, 'youtube': 630, 'somewhere': 631, 'public': 632, 'modern': 633, 'teens': 634, 'thoroughly': 635, 'enjoyed': 636, 'looks': 637, 'community': 638, 'japan': 639, 'vignettes': 640, 'clearly': 641, 'able': 642, 'inside': 643, 'o': 644, 'neck': 645, 'charges': 646, 'aa': 647, 'aaa': 648, 'flip': 649, 'button': 650, 'positive': 651, 'horizontal': 652, 'using': 653, 'tape': 654, 'crayon': 655, 'turn': 656, 'unit': 657, 'short': 658, 'longer': 659, 'volume': 660, 'expectations': 661, 'essay': 662, 'among': 663, 'women': 664, 'disappointment': 665, 'based': 666, 'deciding': 667, 'own': 668, 'choice': 669, 'awkward': 670, 'options': 671, 'incorrect': 672, 'fan': 673, 'saw': 674, 'knew': 675, 'combo': 676, 'except': 677, 'programming': 678, 'ridiculous': 679, 'wonder': 680, 'mountain': 681, 'lion': 682, 'completely': 683, 'bet': 684, 'babylon': 685, 'features': 686, 'soap': 687, 'drama': 688, 'series': 689, 'aired': 690, 'san': 691, 'unfortunately': 692, 'vibe': 693, 'voices': 694, 'happening': 695, 'party': 696, 'anywhere': 697, 'american': 698, 'simple': 699, 'focused': 700, 'ignored': 701, \"larry's\": 702, '80s': 703, '90s': 704, 'rich': 705, 'musicians': 706, 'take': 707, 'stand': 708, 'line': 709, 'frustrating': 710, 'attempts': 711, 'mouse': 712, 'disapointed': 713, \"allman's\": 714, '8': 715, 'ed': 716, \"wood's\": 717, 'lisa': 718, 'where': 719, 'information': 720, 'starting': 721, 'historical': 722, 'cost': 723, 'starter': 724, 'collection': 725, 'nor': 726, 'lived': 727, 'mp3': 728, 'background': 729, 'lyrics': 730, 'plus': 731, 'refund': 732, 'name': 733, 'space': 734, 'negative': 735, 'keys': 736, 'color': 737, 'choices': 738, 'piece': 739, 'function': 740, 'flash': 741, 'annoying': 742, 'replace': 743, 'bonus': 744, 'defective': 745, 'number': 746, 'week': 747, \"isn't\": 748, 'loud': 749, 'c': 750, 'barely': 751, 'lightweight': 752, 'romanian': 753, 'guides': 754, 'reference': 755, 'guide': 756, 'thank': 757, 'lonely': 758, 'planet': 759, 'buying': 760, 'pages': 761, 'course': 762, 'kid': 763, 'jay': 764, 'depends': 765, 'sent': 766, '12': 767, 'date': 768, 'ahead': 769, 'gem': 770, 'complex': 771, 'itself': 772, 'entire': 773, 'shipping': 774, 'said': 775, 'africa': 776, 'voice': 777, 'recorded': 778, 'ripped': 779, 'sadly': 780, 'place': 781, 'john': 782, 'neither': 783, 'essentially': 784, 'yr': 785, 'friendly': 786, 'rooms': 787, 'finding': 788, 'gems': 789, 'adventure': 790, 'prince': 791, 'head': 792, 'crying': 793, 'currently': 794, 'leave': 795, 'hoping': 796, 'imagination': 797, 'choose': 798, 'kids': 799, 'girls': 800, 'ages': 801, 'decorate': 802, 'x': 803, 'classic': 804, 'multiple': 805, 'tasks': 806, 'future': 807, 'smells': 808, 'freesia': 809, 'existent': 810, 'dubbing': 811, 'original': 812, 'sooo': 813, 'suc': 814, 'record': 815, 'production': 816, \"they've\": 817, 'screw': 818, 'sad': 819, 'somethin': 820, 'steve': 821, 'southside': 822, 'farm': 823, 'version': 824, 'drew': 825, 'idea': 826, 'comfy': 827, 'warm': 828, 'run': 829, 'july': 830, 'ariel': 831, 'consumers': 832, 'alike': 833, 'rock': 834, 'debut': 835, 'band': 836, 'nite': 837, 'duran': 838, 'release': 839, 'classical': 840, 'silly': 841, 'stuning': 842, 'gamer': 843, 'paints': 844, 'senery': 845, 'recomend': 846, 'vid': 847, 'backs': 848, 'crude': 849, 'keyboarding': 850, 'fresher': 851, 'step': 852, 'grate': 853, 'soulful': 854, 'orchestras': 855, 'impress': 856, 'cares': 857, 'saying': 858, \"'game\": 859, \"soundtrack'\": 860, 'disagree': 861, 'opinino': 862, 'ultimate': 863, 'timeless': 864, 'listening': 865, 'beauty': 866, 'simply': 867, 'refuses': 868, 'fade': 869, 'tag': 870, 'staggering': 871, 'penny': 872, 'hands': 873, 'intense': 874, 'sadness': 875, 'means': 876, 'promise': 877, 'stole': 878, 'personally': 879, 'throughout': 880, 'teen': 881, 'higher': 882, 'energy': 883, 'dreamwatch': 884, 'indefinably': 885, 'remeniscent': 886, 'trigger': 887, 'superb': 888, \"composer's\": 889, 'xenogears': 890, 'relaxing': 891, 'peaceful': 892, 'favorites': 893, 'scars': 894, 'death': 895, 'forest': 896, 'illusion': 897, 'fortress': 898, 'dragons': 899, 'lost': 900, 'fragment': 901, 'drowned': 902, 'valley': 903, 'draggons': 904, 'galdorb': 905, 'gale': 906, 'girlfriend': 907, 'zelbessdisk': 908, 'garden': 909, 'chronopolis': 910, 'fates': 911, 'jellyfish': 912, 'burning': 913, 'orphange': 914, \"dragon's\": 915, 'prayer': 916, 'tower': 917, 'unstealable': 918, 'xander': 919, 'jaw': 920, 'floor': 921, 'hearing': 922, 'tells': 923, 'greatest': 924, 'magical': 925, 'wind': 926, 'unstolen': 927, 'translation': 928, 'varies': 929, 'ask': 930, 'mitsuda': 931, 'poured': 932, 'taking': 933, 'aware': 934, 'contributed': 935, 'greatly': 936, 'cds': 937, 'exact': 938, 'count': 939, 'rendering': 940, 'impressively': 941, 'remarkable': 942, 'assure': 943, 'listener': 944, 'paced': 945, 'energetic': 946, 'dancing': 947, 'tokage': 948, 'termina': 949, 'slower': 950, 'haunting': 951, 'purely': 952, 'fantastic': 953, 'vocals': 954, 'videogame': 955, 'soundtracks': 956, 'surely': 957, 'self': 958, 'published': 959, 'paragraphs': 960, \"haddon's\": 961, 'imagine': 962, 'evening': 963, 'friend': 964, 'hysterics': 965, 'bits': 966, 'pieces': 967, 'entered': 968, 'contest': 969, 'sells': 970, 'offer': 971, '8th': 972, 'term': 973, 'kill': 974, 'mockingbird': 975, 'joke': 976, 'glorious': 977, 'pleasantly': 978, 'changes': 979, 'normaly': 980, 'raving': 981, 'typical': 982, 'crime': 983, 'becuase': 984, 'warming': 985, 'fell': 986, 'caracters': 987, 'average': 988, 'predict': 989, 'outcome': 990, 'shocked': 991, 'writting': 992, 'descriptive': 993, 'broke': 994, \"julia's\": 995, 'reader': 996, 'spectacular': 997, 'whispers': 998, 'coming': 999, 'typographical': 1000, 'errors': 1001, 'pathetic': 1002, 'embarrassed': 1003, 'twist': 1004, 'turns': 1005, 'keeps': 1006, 'guessing': 1007, 'happen': 1008, 'fall': 1009, 'heat': 1010, 'angery': 1011, 'throu': 1012, 'emotions': 1013, 'realistic': 1014, 'error': 1015, 'writer': 1016, 'loving': 1017, 'revengeful': 1018, 'twisted': 1019, 'glass': 1020, 'novel': 1021, 'discerning': 1022, 'drivel': 1023, 'typo': 1024, 'prominently': 1025, 'page': 1026, 'intentional': 1027, 'churning': 1028, 'heated': 1029, 'prose': 1030, 'satiric': 1031, 'purposes': 1032, 'phew': 1033, '95': 1034, 'beyond': 1035, 'belief': 1036, 'wasting': 1037, '7th': 1038, 'grader': 1039, 'grammatical': 1040, 'skills': 1041, 'points': 1042, 'misspelling': 1043, 'per': 1044, 'chapter': 1045, 'example': 1046, 'mentioned': 1047, 'lean': 1048, 'distracted': 1049, 'weak': 1050, 'pencil': 1051, 'mark': 1052, 'spelling': 1053, \"author's\": 1054, 'relatives': 1055, 'faith': 1056, 'try': 1057, 'fake': 1058, 'glaringly': 1059, 'obvious': 1060, 'glowing': 1061, 'misspellings': 1062, 'sentence': 1063, 'structure': 1064, 'veronica': 1065, 'romantic': 1066, 'baseball': 1067, 'folks': 1068, \"'em\": 1069, 'talking': 1070, 'cuban': 1071, 'searching': 1072, 'idenity': 1073, 'stumbles': 1074, 'coastal': 1075, 'resort': 1076, 'gig': 1077, 'motorcycle': 1078, 'maintenance': 1079, 'hysterical': 1080, 'italian': 1081, 'chefs': 1082, 'latino': 1083, 'fireballing': 1084, 'handed': 1085, 'pitcher': 1086, 'team': 1087, 'sponsored': 1088, \"resort's\": 1089, 'owner': 1090, 'case': 1091, \"'finds'\": 1092, 'honest': 1093, 'comical': 1094, 'emotional': 1095, 'sizzling': 1096, 'roster': 1097, 'players': 1098, 'special': 1099, 'effects': 1100, 'flashbacks': 1101, 'fashionable': 1102, 'dvt': 1103, 'doctor': 1104, 'required': 1105, 'wore': 1106, 'ugly': 1107, 'ted': 1108, 'hose': 1109, 'yucky': 1110, 'thick': 1111, 'brown': 1112, 'regular': 1113, 'pantyhose': 1114, 'blood': 1115, 'clot': 1116, 'legs': 1117, 'note': 1118, 'rubberized': 1119, 'tops': 1120, 'adhesive': 1121, 'hated': 1122, 'pulled': 1123, 'inexpensive': 1124, 'garter': 1125, 'belt': 1126, 'helps': 1127, 'difficult': 1128, 'older': 1129, 'workout': 1130, 'wears': 1131, 'roll': 1132, 'deep': 1133, 'ridge': 1134, 'difficulties': 1135, 'addressed': 1136, 'internet': 1137, 'mens': 1138, 'sedentary': 1139, 'types': 1140, 'active': 1141, 'consistently': 1142, 'rolled': 1143, 'ankles': 1144, 'solution': 1145, 'stocking': 1146, '30': 1147, 'stock': 1148, '114622': 1149, 'stays': 1150, 'tore': 1151, 'struggled': 1152, 'riddance': 1153, 'investment': 1154, 'delicious': 1155, 'knowing': 1156, 'header': 1157, 'noticed': 1158, 'baking': 1159, 'convenience': 1160, 'wrapped': 1161, 'logs': 1162, 'surprise': 1163, 'mixing': 1164, 'messy': 1165, 'sticky': 1166, 'flexibility': 1167, 'ratio': 1168, 'extra': 1169, 'butter': 1170, 'chewy': 1171, 'large': 1172, 'chocolate': 1173, 'chips': 1174, 'addition': 1175, \"'natural\": 1176, \"flavors'\": 1177, 'abysmal': 1178, 'digital': 1179, 'rather': 1180, 'insect': 1181, 'droppings': 1182, 'random': 1183, 'pixelations': 1184, 'combined': 1185, 'muddy': 1186, 'vague': 1187, 'image': 1188, 'resolution': 1189, 'cue': 1190, 'straight': 1191, 'street': 1192, 'corner': 1193, 'bootleg': 1194, 'dealer': 1195, 'reasonably': 1196, 'condition': 1197, 'defining': 1198, 'crystal': 1199, 'lighting': 1200, 'contrasts': 1201, 'black': 1202, 'countryside': 1203, \"'old\": 1204, \"home'\": 1205, 'morning': 1206, 'ground': 1207, 'mists': 1208, 'haze': 1209, 'events': 1210, 'bridge': 1211, 'water': 1212, 'bright': 1213, 'immediate': 1214, 'dark': 1215, 'clouded': 1216, 'timbre': 1217, 'enunciation': 1218, \"captain's\": 1219, 'commands': 1220, 'award': 1221, 'critically': 1222, 'acclaimed': 1223, \"film's\": 1224, 'presentation': 1225, '16mm': 1226, 'reel': 1227, 'appear': 1228, 'fascinating': 1229, 'insight': 1230, 'rising': 1231, 'sons': 1232, 'daughters': 1233, 'society': 1234, 'poised': 1235, \"parents'\": 1236, 'restraint': 1237, 'obedience': 1238, \"peers'\": 1239, 'adulation': 1240, 'western': 1241, 'form': 1242, 'creating': 1243, 'international': 1244, 'blend': 1245, 'ando': 1246, 'demonstrates': 1247, 'private': 1248, 'lives': 1249, 'members': 1250, 'steven': 1251, 'wardell': 1252, 'talented': 1253, 'adopted': 1254, 'schooling': 1255, 'thus': 1256, 'liked': 1257, 'blue': 1258, 'angel': 1259, 'lanna': 1260, \"'mama\": 1261, 'hair': 1262, 'rose': 1263, 'roy': 1264, 'trully': 1265, 'singer': 1266, 'talent': 1267, 'days': 1268, 'aaas': 1269, 'huge': 1270, 'securing': 1271, 'pop': 1272, 'hold': 1273, 'mechanism': 1274, 'became': 1275, 'loose': 1276, 'pressure': 1277, 'push': 1278, 'duct': 1279, 'segment': 1280, 'apply': 1281, 'wrap': 1282, 'painful': 1283, 'advertised': 1284, 'chargers': 1285, 'battery': 1286, 'dont': 1287, '24': 1288, 'useless': 1289, 'backup': 1290, 'manage': 1291, 'drain': 1292, 'aas': 1293, 'convenient': 1294, 'lasts': 1295, 'kodak': 1296, 'nimh': 1297, 'dear': 1298, 'ostensibly': 1299, 'feminism': 1300, 'describes': 1301, 'veil': 1302, 'potentially': 1303, 'liberating': 1304, 'explain': 1305, 'cape': 1306, 'town': 1307, 'separate': 1308, 'equal': 1309, 'gee': 1310, 'whiz': 1311, 'hoped': 1312, 'feminist': 1313, 'condemnation': 1314, 'gender': 1315, 'apartheid': 1316, 'extolling': 1317, 'virtues': 1318, 'female': 1319, 'genital': 1320, 'mutilation': 1321, 'alyssa': 1322, 'lappen': 1323, 'christmas': 1324, 'present': 1325, 'myself': 1326, 'join': 1327, 'land': 1328, 'movies': 1329, 'agree': 1330, 'selection': 1331, 'hang': 1332, 'comments': 1333, 'intuitive': 1334, 'complicated': 1335, 'technically': 1336, 'minded': 1337, 'rely': 1338, 'heavily': 1339, 'manual': 1340, 'setting': 1341, 'timer': 1342, 'enter': 1343, 'scroll': 1344, 'complaints': 1345, 'suspiscious': 1346, 'units': 1347, 'section': 1348, 'sends': 1349, 'clicks': 1350, 'receiver': 1351, 'transition': 1352, 'smooth': 1353, 'pause': 1354, 'fairly': 1355, 'headcleaner': 1356, 'message': 1357, 'nut': 1358, 'televisions': 1359, 'bookshelf': 1360, 'car': 1361, 'compatability': 1362, 'seperate': 1363, 'inputs': 1364, 'coax': 1365, 'mono': 1366, 'difference': 1367, \"she's\": 1368, \"i'll\": 1369, 'titled': 1370, 'hollywood': 1371, 'debacle': 1372, 'script': 1373, 'breaks': 1374, 'trailer': 1375, 'cars': 1376, 'captured': 1377, 'jail': 1378, 'cell': 1379, 'utterly': 1380, 'stupid': 1381, 'incredible': 1382, 'acting': 1383, 'tamzin': 1384, 'outhwaite': 1385, 'formerly': 1386, 'eastenders': 1387, 'max': 1388, 'beesley': 1389, 'ill': 1390, 'fated': 1391, 'glitter': 1392, 'starring': 1393, 'mariah': 1394, 'carey': 1395, 'opera': 1396, 'mixed': 1397, 'america': 1398, 'seeing': 1399, 'episodes': 1400, 'season': 1401, 'finale': 1402, 'reminds': 1403, 'abc': 1404, '1983': 1405, '1988': 1406, 'reason': 1407, 'fictional': 1408, 'francisco': 1409, 'luxury': 1410, 'england': 1411, 'willing': 1412, 'casually': 1413, 'applying': 1414, 'law': 1415, 'school': 1416, 'seriously': 1417, 'entertaining': 1418, 'hip': 1419, 'daddy': 1420, 'dismay': 1421, 'fourth': 1422, 'class': 1423, 'main': 1424, 'jist': 1425, 'xylaphone': 1426, 'peoples': 1427, 'trying': 1428, 'replicate': 1429, 'neighborhood': 1430, 'laughed': 1431, 'beach': 1432, 'growing': 1433, 'surfer': 1434, 'diego': 1435, 'california': 1436, 'brothers': 1437, 'honestly': 1438, 'kinda': 1439, 'b': 1440, 'absolutle': 1441, 'epitimy': 1442, 'surf': 1443, 'surfers': 1444, 'rochelle': 1445, 'explains': 1446, 'wondering': 1447, 'hell': 1448, 'happened': 1449, 'moral': 1450, 'aspect': 1451, 'lucid': 1452, 'argued': 1453, 'explanation': 1454, 'become': 1455, 'individual': 1456, 'rights': 1457, 'mocked': 1458, 'personal': 1459, 'responsibilities': 1460, 'final': 1461, 'indictment': 1462, 'robert': 1463, \"ringer's\": 1464, 'disgusted': 1465, 'boorish': 1466, 'state': 1467, 'media': 1468, 'politics': 1469, 'discourse': 1470, 'general': 1471, 'heads': 1472, 'substantial': 1473, 'challenges': 1474, 'lie': 1475, 'americans': 1476, 'beings': 1477, 'muse': 1478, 'exploring': 1479, 'catalog': 1480, 'jazz': 1481, 'standards': 1482, 'grew': 1483, 'himself': 1484, 'larry': 1485, 'relaxed': 1486, 'valentine': 1487, 'chet': 1488, \"baker's\": 1489, \"miles'\": 1490, \"you'll\": 1491, 'windows': 1492, \"hasn't\": 1493, 'touched': 1494, 'segments': 1495, 'arrows': 1496, 'keyboard': 1497, 'numbing': 1498, 'holds': 1499, \"son's\": 1500, 'level': 1501, 'rescue': 1502, 'heroes': 1503, 'dog': 1504, 'cannot': 1505, 'former': 1506, 'alaskan': 1507, 'repeatedly': 1508, 'attempting': 1509, 'throw': 1510, 'cups': 1511, 'flour': 1512, 'miscellaneous': 1513, 'nearly': 1514, 'comparing': 1515, 'flawlessly': 1516, \"rayner's\": 1517, 'artisan': 1518, 'breads': 1519, 'fail': 1520, 'novice': 1521, 'baker': 1522, 'worked': 1523, 'reliably': 1524, 'pancakes': 1525, 'recipe': 1526, 'reliable': 1527, 'concise': 1528, 'maintaining': 1529, 'ones': 1530, 'rayner': 1531, 'fabulous': 1532, 'tome': 1533, 'pass': 1534, 'warrant': 1535, 'visiting': 1536, 'brother': 1537, 'advise': 1538, 'ruth': 1539, 'past': 1540, '100': 1541, 'mixer': 1542, 'civilized': 1543, 'stuffs': 1544, 'pot': 1545, 'autumn': 1546, 'nc': 1547, 'prefect': 1548, 'closer': 1549, 'download': 1550, 'waxed': 1551, 'decades': 1552, '26': 1553, 'gymnastic': 1554, 'dance': 1555, 'feat': 1556, 'russia': 1557, 'hunted': 1558, 'melody': 1559, 'downloaded': 1560, 'via': 1561, 'downloader': 1562, 'happily': 1563, 'melodies': 1564, 'interspersed': 1565, 'ipod': 1566, 'experience': 1567, 'fm': 1568, 'rattled': 1569, 'loudly': 1570, 'thru': 1571, 'middle': 1572, 'reviewers': 1573, 'dead': 1574, 'layout': 1575, 'engineering': 1576, 'imo': 1577, 'under': 1578, 'emerson': 1579, '400': 1580, 'wm': 1581, 'hesitant': 1582, 'sylvania': 1583, '6620ldg': 1584, 'flat': 1585, 'panel': 1586, 'lcd': 1587, 'built': 1588, 'weight': 1589, 'saving': 1590, 'attractive': 1591, 'design': 1592, 'sharp': 1593, 'playback': 1594, 'functions': 1595, 'due': 1596, 'placement': 1597, 'illogical': 1598, 'carefully': 1599, 'designed': 1600, 'imbecil': 1601, 'terrible': 1602, 'birthday': 1603, 'toreturn': 1604, 'palyer': 1605, 'repalcement': 1606, 'failed': 1607, 'junk': 1608, 'capable': 1609, 'channels': 1610, 'sony': 1611, 'universal': 1612, 'learned': 1613, 'factory': 1614, 'capability': 1615, '13': 1616, 'tube': 1617, 'gained': 1618, 'larger': 1619, 'relcaiming': 1620, 'counter': 1621, 'internal': 1622, 'electronics': 1623, 'express': 1624, 'rma': 1625, 'fedex': 1626, 'picked': 1627, 'later': 1628, 'clarity': 1629, 'complaint': 1630, 'mode': 1631, 'solved': 1632, 'jack': 1633, 'stereo': 1634, 'speaker': 1635, 'jacks': 1636, 'antenna': 1637, 'biased': 1638, 'angle': 1639, 'clean': 1640, 'proper': 1641, 'fails': 1642, 'shed': 1643, 'tourist': 1644, 'tour': 1645, 'country': 1646, 'forgotten': 1647, 'outlining': 1648, 'exclude': 1649, 'romania': 1650, 'precision': 1651, 'detail': 1652, \"dk's\": 1653, 'realy': 1654, 'everybody': 1655, 'illustration': 1656, 'texts': 1657, 'sights': 1658, 'cities': 1659, 'european': 1660, 'traveled': 1661, 'eyewitness': 1662, 'info': 1663, 'ended': 1664, 'indiv': 1665, 'city': 1666, 'surface': 1667, 'moving': 1668, 'germany': 1669, 'wanted': 1670, 'overview': 1671, '457': 1672, '480': 1673, 'greece': 1674, 'spanish': 1675, 'sort': 1676, 'printing': 1677, 'highlights': 1678, 'memphis': 1679, 'tn': 1680, 'reatards': 1681, 'fronted': 1682, 'reatard': 1683, 'eric': 1684, 'oblivians': 1685, 'goner': 1686, 'tender': 1687, '19': 1688, 'rocking': 1689, 'offending': 1690, 'sensibilities': 1691, 'overdriven': 1692, 'crackling': 1693, 'underlaying': 1694, \"jay's\": 1695, 'crooning': 1696, 'howl': 1697, 'energizes': 1698, 'filled': 1699, \"we've\": 1700, 'feet': 1701, 'od': 1702, 'copper': 1703, 'pipe': 1704, '0': 1705, 'accept': 1706, 'returns': 1707, 'foot': 1708, 'sell': 1709, '40': 1710, '50': 1711, 'hunting': 1712, 'way': 1713, 'thia': 1714, 'husband': 1715, 'disappointing': 1716, 'text': 1717, 'plates': 1718, 'markedly': 1719, 'inferior': 1720, 'editions': 1721, 'known': 1722, 'homer': 1723, 'moses': 1724, 'helpful': 1725, 'subject': 1726, 'century': 1727, 'religious': 1728, 'authority': 1729, 'textual': 1730, 'serious': 1731, 'period': 1732, 'interelation': 1733, 'cultures': 1734, 'essential': 1735, 'detailed': 1736, 'argue': 1737, 'yes': 1738, 'disagreeing': 1739, 'above': 1740, 'cardboard': 1741, 'beat': 1742, 'cheesy': 1743, 'finish': 1744, 'worn': 1745, 'solid': 1746, 'brass': 1747, 'decent': 1748, 'distance': 1749, 'scraped': 1750, 'noticeable': 1751, 'scrapes': 1752, 'gigantic': 1753, 'plenty': 1754, 'material': 1755, 'loosely': 1756, 'bottom': 1757, 'scraping': 1758, 'exchanging': 1759, 'risk': 1760, 'unknown': 1761, 'profesionally': 1762, 'produced': 1763, 'mixture': 1764, 'soukous': 1765, 'fado': 1766, 'african': 1767, 'feeling': 1768, 'rithem': 1769, 'soft': 1770, 'borred': 1771, 'oliver': 1772, \"n'goma\": 1773, 'fits': 1774, 'pefectly': 1775, 'france': 1776, 'paris': 1777, 'professionals': 1778, 'working': 1779, 'hot': 1780, 'lazy': 1781, 'greetings': 1782, 'arno': 1783, 'amsterdam': 1784, 'shoes': 1785, 'apart': 1786, 'sole': 1787, 'clark': 1788, 'shoe': 1789, 'within': 1790, 'months': 1791, 'similar': 1792, 'sperry': 1793, 'holding': 1794, 'profound': 1795, 'narrative': 1796, 'famous': 1797, \"founders'\": 1798, 'biographer': 1799, 'arrogant': 1800, 'flippant': 1801, 'frequently': 1802, 'exaggerated': 1803, 'carries': 1804, 'tone': 1805, 'amateur': 1806, 'yankee': 1807, 'historian': 1808, 'passing': 1809, 'judgment': 1810, 'statesman': 1811, 'boston': 1812, 'harvard': 1813, 'graduate': 1814, 'considered': 1815, 'penetrating': 1816, 'represents': 1817, 'today': 1818, 'research': 1819, 'thin': 1820, 'conclude': 1821, 'manuscript': 1822, 'primary': 1823, 'secondary': 1824, 'sources': 1825, 'historians': 1826, \"weren't\": 1827, '110': 1828, 'rated': 1829, 'computer': 1830, 'enjoying': 1831, 'completed': 1832, 'worried': 1833, 'colors': 1834, 'vibrant': 1835, 'started': 1836, 'mommy': 1837, 'tons': 1838, '42': 1839, 'together': 1840, 'alone': 1841, 'creativity': 1842, 'addicted': 1843, 'opening': 1844, 'singing': 1845, 'stop': 1846, 'completes': 1847, 'finds': 1848, 'solving': 1849, 'maze': 1850, 'stefan': 1851, 'sings': 1852, 'challenge': 1853, 'clicking': 1854, 'programmed': 1855, 'save': 1856, 'sobbing': 1857, 'bedroom': 1858, 'result': 1859, 'rotten': 1860, 'hour': 1861, 'painting': 1862, 'coloring': 1863, 'flowers': 1864, 'halfway': 1865, 'program': 1866, 'hung': 1867, 'click': 1868, 'exit': 1869, 'frozen': 1870, 'spot': 1871, \"barbie's\": 1872, 'disembodied': 1873, 'urges': 1874, 'explore': 1875, 'troubleshooting': 1876, 'rebooting': 1877, 'vivendi': 1878, \"games'\": 1879, 'site': 1880, 'disabled': 1881, 'weeping': 1882, 'fault': 1883, 'incompetent': 1884, \"couldn't\": 1885, 'catch': 1886, 'bug': 1887, 'caught': 1888, 'care': 1889, 'bucks': 1890, 'avoid': 1891, 'granddaughter': 1892, 'lets': 1893, 'plan': 1894, 'programs': 1895, 'fight': 1896, 'paint': 1897, 'themes': 1898, 'allows': 1899, \"prince's\": 1900, 'crown': 1901, 'stephan': 1902, 'stone': 1903, 'bring': 1904, 'animation': 1905, 'boring': 1906, 'adult': 1907, 'variations': 1908, 'schemes': 1909, 'patterns': 1910, 'bored': 1911, 'highly': 1912, 'rental': 1913, 'exciting': 1914, 'username': 1915, 'yourself': 1916, 'sister': 1917, 'requires': 1918, 'computers': 1919, 'access': 1920, 'everytime': 1921, 'task': 1922, 'openning': 1923, 'sequence': 1924, 'throwing': 1925, 'saved': 1926, 'files': 1927, 'controls': 1928, 'adults': 1929, 'crashes': 1930, 'jumpy': 1931, 'possible': 1932, 'grand': 1933, 'patience': 1934, 'survive': 1935, 'trials': 1936, 'substitute': 1937, 'importcds': 1938, 'vendor': 1939, 'recieve': 1940, 'rate': 1941, 'bother': 1942, 'orginally': 1943, 'persons': 1944, 'company': 1945, 'mistake': 1946, 'businees': 1947, 'spend': 1948, 'hundreds': 1949, 'dollars': 1950, 'month': 1951, 'com': 1952, 'building': 1953, 'careful': 1954, 'bottle': 1955, 'fragrance': 1956, 'delicate': 1957, 'summer': 1958, 'perfume': 1959, 'recipient': 1960, 'impressed': 1961, 'creepy': 1962, 'jealousy': 1963, 'revenge': 1964, 'doors': 1965, 'open': 1966, 'prepared': 1967, 'didnt': 1968, 'option': 1969, 'menu': 1970, 'stated': 1971, 'package': 1972, 'exist': 1973, 'matter': 1974, 'exceptions': 1975, 'sub': 1976, 'par': 1977, 'covers': 1978, 'remain': 1979, 'shame': 1980, 'sham': 1981, 'offering': 1982, 'tokyo': 1983, 'shock': 1984, \"jammin'\": 1985, 'trill': 1986, 'jammin': 1987, \"pokey's\": 1988, 'official': 1989, 'sh': 1990, 'screwed': 1991, 'records': 1992, 'fallen': 1993, 'downsized': 1994, 'deaths': 1995, 'pioneers': 1996, 'ya': 1997, 'tx': 1998, 'rap': 1999, 'gotta': 2000, 'kickback': 2001, 'blow': 2002, 'jam': 2003, 'ride': 2004, 'underrated': 2005, 'bullsh': 2006, 'mtv': 2007, \"what's\": 2008, 'houston': 2009, \"pat's\": 2010, \"hawk's\": 2011, 'moe': 2012, 'pimp': 2013, 'regardless': 2014, 'pokey': 2015, 'keeping': 2016, 'legacy': 2017, 'dirty': 2018, 'south': 2019, 'guest': 2020, 'fat': 2021, 'pat': 2022, 'botany': 2023, 'mr': 2024, 'chris': 2025, 'ward': 2026, 'h': 2027, 'w': 2028, 'k': 2029, 'chronicles': 2030, 'photos': 2031, 'photo': 2032, 'shewas': 2033, 'til': 2034, 'revised': 2035, 'weeks': 2036, 'maid': 2037, 'israel': 2038, 'bill': 2039, 'harvey': 2040, 'history': 2041, 'awakens': 2042, 'possiblility': 2043, 'relationship': 2044, 'faithfulness': 2045, 'times': 2046, 'treasures': 2047, 'keeper': 2048, 'draw': 2049, 'lounging': 2050, 'june': 2051, '27': 2052, 'given': 2053, 'estimated': 2054, 'dates': 2055, 'went': 2056, 'filed': 2057, 'claim': 2058, 'receiving': 2059, '16': 2060, 'apologized': 2061, 'mishap': 2062, \"seller's\": 2063, 'wrong': 2064, 'litte': 2065, 'mermaid': 2066, 'pearl': 2067, 'kit': 2068, 'cute': 2069, 'provide': 2070, 'annoyed': 2071, 'included': 2072, 'trust': 2073, 'promised': 2074, 'additional': 2075, 'pledge': 2076, 'sweet': 2077, 'graces': 2078, 'email': 2079, 'supply': 2080, 'list': 2081, 'instruction': 2082, 'sheets': 2083, 'ready': 2084, 'figurine': 2085, 'bracelet': 2086, 'boot': 2087, 'contact': 2088, 'phone': 2089, 'manufacturer': 2090, \"let's\": 2091, 'yields': 2092, 'results': 2093, 'meanwhile': 2094, 'wishing': 2095, 'unreliable': 2096, 'critics': 2097, 'released': 2098, 'defunct': 2099, 'almo': 2100, 'chock': 2101, 'radio': 2102, 'hits': 2103, 'djs': 2104, 'mash': 2105, 'remix': 2106, 'bootlegs': 2107, 'fledged': 2108, \"year's\": 2109, 'critcs': 2110, \"album's\": 2111, 'electro': 2112, 'hopefully': 2113, 'cheeky': 2114, 'recalling': 2115, 'bands': 2116, 'singles': 2117, 'clubs': 2118, 'garner': 2119, 'sales': 2120, 'practically': 2121, 'leap': 2122, 'speakers': 2123, 'grab': 2124, 'tiga': 2125, 'upcoming': 2126, 'sexor': 2127, 'omg': 2128, 'owns': 2129, 'rocks': 2130, 'specially1': 2131, 'e': 2132, 'talking2': 2133, 'nylipps3': 2134, 'techo': 2135, 'guysmusicchoice': 2136, 'saturday': 2137, 'jamming': 2138, \"you're\": 2139, 'techno': 2140, 'electronic': 2141, 'cause': 2142, 'jason': 2143, 'bateman': 2144, 'lead': 2145, 'moments': 2146, 'relief': 2147, 'minimum': 2148, 'action': 2149, 'suspense': 2150, 'achieves': 2151, 'suggest': 2152, 'skipping': 2153, 'releasing': 2154, 'powers': 2155, 'finally': 2156, \"80's\": 2157, 'wriiten': 2158, 'horribly': 2159, 'lacked': 2160, 'mystery': 2161, 'culprit': 2162, 'ten': 2163, 'twelve': 2164, 'educational': 2165, 'trains': 2166, 'shapes': 2167, 'pegs': 2168, 'guaranteed': 2169, 'parent': 2170, 'puzzle': 2171, 'range': 2172, 'ludicrous': 2173, 'faintly': 2174, 'entertain': 2175, 'lots': 2176, 'odd': 2177, 'ideas': 2178, 'theories': 2179, 'artistry': 2180, 'deodato': 2181, 'concerts': 2182, 'strings': 2183, 'appreciate': 2184, 'tropea': 2185, 'excelent': 2186, 'renditions': 2187, 'guitar': 2188, 'caution': 2189, 'remastered': 2190, 'irrelevant': 2191}\n",
            "Found 2191 unique tokens.\n"
          ],
          "name": "stdout"
        }
      ]
    },
    {
      "cell_type": "code",
      "metadata": {
        "id": "qR-QNFUDuQ_M",
        "colab_type": "code",
        "outputId": "111e8985-a474-45c8-e64c-6dfa3180ee4b",
        "colab": {
          "base_uri": "https://localhost:8080/",
          "height": 34
        }
      },
      "source": [
        "print(one_hot_results.shape)"
      ],
      "execution_count": 43,
      "outputs": [
        {
          "output_type": "stream",
          "text": [
            "(100, 1000)\n"
          ],
          "name": "stdout"
        }
      ]
    },
    {
      "cell_type": "markdown",
      "metadata": {
        "id": "g-fLIP-iKg37",
        "colab_type": "text"
      },
      "source": [
        "# **3) provide one-hot coding with hashing (listing 6.4)**"
      ]
    },
    {
      "cell_type": "code",
      "metadata": {
        "id": "pBHnhg2sKtDE",
        "colab_type": "code",
        "colab": {}
      },
      "source": [
        "samples = texts[:100] # using only first 100 reviews"
      ],
      "execution_count": 0,
      "outputs": []
    },
    {
      "cell_type": "code",
      "metadata": {
        "id": "YBTjTSw1KmGr",
        "colab_type": "code",
        "outputId": "9ef90034-b968-441f-bc6c-6fdbb8bc4f2a",
        "colab": {
          "base_uri": "https://localhost:8080/",
          "height": 71
        }
      },
      "source": [
        "dimensionality = 1000\n",
        "max_length = 10\n",
        "\n",
        "results = np.zeros((len(samples), max_length, dimensionality))\n",
        "for i, sample in enumerate(samples):\n",
        "  for j, word in list(enumerate(sample.split()))[:max_length]:\n",
        "    index = abs(hash(word)) % dimensionality\n",
        "    results[i, j, index] = 1.\n",
        "\n",
        "print(word_index)\n",
        "print(f'Found {len(word_index)} unique tokens.')"
      ],
      "execution_count": 45,
      "outputs": [
        {
          "output_type": "stream",
          "text": [
            "{'the': 1, 'i': 2, 'and': 3, 'to': 4, 'a': 5, 'of': 6, 'it': 7, 'is': 8, 'this': 9, 'in': 10, 'you': 11, 'that': 12, 'for': 13, 'not': 14, 'on': 15, 'my': 16, 'but': 17, 'was': 18, 'have': 19, 'with': 20, 'book': 21, 'are': 22, 'so': 23, 'all': 24, 'one': 25, 'as': 26, 'very': 27, 'be': 28, 'from': 29, 'game': 30, 'at': 31, 'if': 32, 'me': 33, 'great': 34, 'they': 35, 'up': 36, 'has': 37, 'time': 38, 'just': 39, 'out': 40, 'read': 41, 'or': 42, 'get': 43, 'dvd': 44, 'would': 45, 'an': 46, 'like': 47, 'what': 48, 'music': 49, 'good': 50, 'only': 51, 'there': 52, 'she': 53, 'do': 54, 'who': 55, 'more': 56, 'by': 57, 'some': 58, 'even': 59, 'now': 60, 'when': 61, 'can': 62, \"don't\": 63, 'old': 64, 'your': 65, 'been': 66, 'much': 67, 'love': 68, 'best': 69, \"i'm\": 70, 'work': 71, 'no': 72, 'cd': 73, \"can't\": 74, \"it's\": 75, 'will': 76, 'we': 77, 'bought': 78, 'had': 79, 'while': 80, 'tv': 81, 'want': 82, 'because': 83, 'make': 84, 'movie': 85, 'any': 86, 'which': 87, 'never': 88, 'then': 89, 'played': 90, 'buy': 91, 'down': 92, 'after': 93, 'them': 94, 'about': 95, 'did': 96, 'also': 97, 'same': 98, 'year': 99, 'well': 100, 'soundtrack': 101, 'reviews': 102, 'could': 103, 'should': 104, 'another': 105, 'loved': 106, 'again': 107, 'over': 108, 'big': 109, 'than': 110, 'use': 111, 'daughter': 112, 'screen': 113, 'must': 114, 'going': 115, 'most': 116, 'how': 117, 'am': 118, 'bad': 119, 'back': 120, 'first': 121, \"didn't\": 122, 'their': 123, 'her': 124, 'too': 125, 'mix': 126, 'since': 127, 'player': 128, '2': 129, '1': 130, 'ever': 131, 'years': 132, 'pretty': 133, 'say': 134, 'money': 135, 'every': 136, 'star': 137, 'stars': 138, 'excellent': 139, '5': 140, 'thing': 141, 'into': 142, 'amazon': 143, 'go': 144, 'always': 145, 'still': 146, 'these': 147, 'however': 148, 'around': 149, 'other': 150, 'new': 151, 'got': 152, 'its': 153, 'amazing': 154, 'two': 155, 'off': 156, 'know': 157, 'his': 158, 'whole': 159, '3': 160, 'written': 161, 'enough': 162, 'found': 163, 'thought': 164, 'put': 165, 'nothing': 166, 'day': 167, 'real': 168, 'really': 169, 'set': 170, 'find': 171, 'batteries': 172, 'little': 173, 'remote': 174, 'playing': 175, 'seller': 176, 'fun': 177, 'loves': 178, 'sound': 179, 'people': 180, 'anyone': 181, 'reading': 182, 'lot': 183, 'bit': 184, 'price': 185, 'worth': 186, '6': 187, 'life': 188, 'three': 189, 'song': 190, 'story': 191, 'least': 192, 'once': 193, 'few': 194, 'were': 195, 'romance': 196, 'easy': 197, 'keep': 198, 'poor': 199, 'disappointed': 200, 'makes': 201, 'castle': 202, 'think': 203, 'young': 204, 'right': 205, 'stockings': 206, 'nice': 207, 'full': 208, 'both': 209, 'hard': 210, 'album': 211, 'problem': 212, \"doesn't\": 213, 'audio': 214, 'hotel': 215, 'show': 216, 'recommend': 217, 'ordered': 218, 'sourdough': 219, 'europe': 220, 'play': 221, 'software': 222, 'away': 223, 'feel': 224, \"you've\": 225, 'tracks': 226, 'heard': 227, 'give': 228, 'video': 229, 'here': 230, 'between': 231, 'god': 232, 'those': 233, 'songs': 234, 'actually': 235, 'everything': 236, 'beware': 237, 'why': 238, 'family': 239, 'believe': 240, 'true': 241, 'expected': 242, 'used': 243, 'waste': 244, 'him': 245, 'guess': 246, 'kitchen': 247, 'through': 248, '15': 249, 'looked': 250, 'fine': 251, 'help': 252, 'smaller': 253, 'better': 254, 'cookie': 255, 'seen': 256, 'comes': 257, 'four': 258, \"won't\": 259, 'instructions': 260, 'does': 261, 'purchase': 262, 'vcr': 263, 'many': 264, 'happy': 265, 'room': 266, 'box': 267, 'making': 268, 'recipes': 269, 'picture': 270, 'each': 271, 'deal': 272, 'understand': 273, 'travel': 274, 'barbie': 275, 'rapunzel': 276, 'topper': 277, 'non': 278, 'chrono': 279, 'cross': 280, 'games': 281, 'girl': 282, 'probably': 283, 'wish': 284, 'sea': 285, 'dreamers': 286, 'without': 287, 'heart': 288, 'quite': 289, 'kind': 290, 'maybe': 291, 'stay': 292, 'missing': 293, 'let': 294, 'made': 295, 'wanting': 296, 'author': 297, 'end': 298, 'clear': 299, 'writing': 300, 'decided': 301, 'us': 302, 'hear': 303, 'man': 304, 'compression': 305, 'wear': 306, '20': 307, 'tried': 308, \"i've\": 309, 'top': 310, 'store': 311, 'need': 312, 'pair': 313, 'title': 314, 'light': 315, 'dull': 316, 'none': 317, 'view': 318, 'charger': 319, 'lights': 320, 'hours': 321, \"wouldn't\": 322, 'muslim': 323, 'jvc': 324, 'return': 325, 'system': 326, 'came': 327, 'cable': 328, 'control': 329, 'look': 330, 'before': 331, 'bbc': 332, \"wasn't\": 333, 'last': 334, 'our': 335, 'response': 336, 'looking': 337, 'mac': 338, 'english': 339, 'quality': 340, 'almost': 341, 'purchased': 342, 'contacted': 343, 'arrived': 344, 'pictures': 345, 'received': 346, 'figure': 347, 'gift': 348, 'style': 349, 'slow': 350, 'cake': 351, 'soulwax': 352, 'track': 353, 'beautiful': 354, 'listen': 355, 'figured': 356, \"i'd\": 357, 'write': 358, 'review': 359, \"mitsuda's\": 360, 'hope': 361, \"time's\": 362, 'scar': 363, 'absolutely': 364, 'sure': 365, 'twice': 366, 'truly': 367, 'enjoy': 368, 'disk': 369, 'radical': 370, 'remember': 371, 'single': 372, 'perfect': 373, 'wrote': 374, 'whether': 375, 'fast': 376, 'buyer': 377, 'perhaps': 378, 'herself': 379, 'worst': 380, 'unless': 381, 'someone': 382, 'wicked': 383, 'saints': 384, 'world': 385, 'wonderful': 386, 'told': 387, 'instead': 388, 'books': 389, 'felt': 390, 'cover': 391, 'left': 392, 'soon': 393, 'complete': 394, 'totally': 395, 'plot': 396, 'paid': 397, 'next': 398, 'several': 399, 'quick': 400, 'something': 401, 'night': 402, 'yet': 403, 'human': 404, 'fact': 405, 'please': 406, 'others': 407, 'wait': 408, 'point': 409, 'seems': 410, 'age': 411, 'person': 412, 'anymore': 413, 'might': 414, '4': 415, 'white': 416, 'jobst': 417, 'ultrasheer': 418, 'gone': 419, 'support': 420, 'works': 421, 'product': 422, 'getting': 423, 'begin': 424, 'such': 425, 'sheer': 426, 'check': 427, 'model': 428, 'may': 429, 'standard': 430, 'plastic': 431, 'copy': 432, 'film': 433, 'scenes': 434, 'early': 435, 'library': 436, 'japanese': 437, 'culture': 438, 'seem': 439, 'listened': 440, 'charging': 441, 'charge': 442, 'buttons': 443, 'done': 444, 'returned': 445, 'thinking': 446, 'kept': 447, 'excited': 448, 'live': 449, 'things': 450, 'claims': 451, 'rest': 452, 'vhs': 453, 'start': 454, 'disc': 455, 'move': 456, 'boys': 457, 'input': 458, 'wife': 459, 'tell': 460, 'behind': 461, 'notice': 462, 'interesting': 463, 'watch': 464, 'already': 465, 'sounds': 466, 'southern': 467, 'cha': 468, 'label': 469, 'late': 470, 'he': 471, 'says': 472, 'os': 473, 'order': 474, 'son': 475, 'power': 476, 'attention': 477, 'long': 478, 'wild': 479, 'bread': 480, 'places': 481, 'alaska': 482, 'stories': 483, 'ago': 484, 'see': 485, 'else': 486, 'sometimes': 487, 'sense': 488, 'recall': 489, 'user': 490, 'rv': 491, 'running': 492, 'opinion': 493, 'combination': 494, 'countries': 495, 'either': 496, 'previous': 497, 'second': 498, 'across': 499, 'damage': 500, 'expect': 501, 'morse': 502, 'decorating': 503, '7': 504, 'took': 505, 'child': 506, 'creative': 507, 'come': 508, 'basically': 509, 'feedback': 510, 'wow': 511, 'thai': 512, 'alive': 513, 'air': 514, '2010': 515, 'versions': 516, \"1980's\": 517, 'mind': 518, 'hate': 519, 'takes': 520, 'guitars': 521, 'anything': 522, 'yasunori': 523, 'masterpiece': 524, 'favorite': 525, 'prisoners': 526, 'fate': 527, 'distant': 528, 'important': 529, 'inspiration': 530, 'chronomantique': 531, \"haven't\": 532, 'ancient': 533, 'home': 534, 'likes': 535, 'dragon': 536, 'jewel': 537, 'overall': 538, 'brought': 539, 'pull': 540, 'divine': 541, 'doubt': 542, 'paper': 543, 'absolute': 544, 'mood': 545, 'minute': 546, 'composed': 547, 'forget': 548, 'beautifully': 549, 'ms': 550, 'friends': 551, 'spent': 552, 'definitely': 553, 'grade': 554, 'haddon': 555, 'anyway': 556, 'send': 557, 'far': 558, 'whisper': 559, 'surprised': 560, 'novels': 561, 'brilliant': 562, 'five': 563, 'finished': 564, 'lover': 565, 'fool': 566, 'follow': 567, 'gotten': 568, 'enjoyable': 569, 'grammar': 570, 'add': 571, 'boy': 572, 'showed': 573, 'side': 574, 'turned': 575, 'oh': 576, 'trouble': 577, 'featured': 578, 'removed': 579, 're': 580, 'beginning': 581, 'glad': 582, '10': 583, 'awful': 584, 'reviewer': 585, 'house': 586, 'hand': 587, 'horrible': 588, 'zen': 589, 'comedy': 590, 'cool': 591, 'plays': 592, 'often': 593, 'interaction': 594, 'salsa': 595, 'gets': 596, 'gave': 597, 'needed': 598, 'though': 599, 'problems': 600, 'rolling': 601, 'thigh': 602, 'having': 603, 'skin': 604, 'high': 605, 'create': 606, 'sizes': 607, 'recomended': 608, 'size': 609, 'chart': 610, 'item': 611, 'ok': 612, 'alot': 613, 'job': 614, 'gives': 615, 'funny': 616, 'quickly': 617, 'packaged': 618, 'cookies': 619, 'dough': 620, 'extremely': 621, 'ingredients': 622, 'baked': 623, 'scratches': 624, 'packaging': 625, 'visuals': 626, 'surrounding': 627, 'memory': 628, 'winning': 629, 'youtube': 630, 'somewhere': 631, 'public': 632, 'modern': 633, 'teens': 634, 'thoroughly': 635, 'enjoyed': 636, 'looks': 637, 'community': 638, 'japan': 639, 'vignettes': 640, 'clearly': 641, 'able': 642, 'inside': 643, 'o': 644, 'neck': 645, 'charges': 646, 'aa': 647, 'aaa': 648, 'flip': 649, 'button': 650, 'positive': 651, 'horizontal': 652, 'using': 653, 'tape': 654, 'crayon': 655, 'turn': 656, 'unit': 657, 'short': 658, 'longer': 659, 'volume': 660, 'expectations': 661, 'essay': 662, 'among': 663, 'women': 664, 'disappointment': 665, 'based': 666, 'deciding': 667, 'own': 668, 'choice': 669, 'awkward': 670, 'options': 671, 'incorrect': 672, 'fan': 673, 'saw': 674, 'knew': 675, 'combo': 676, 'except': 677, 'programming': 678, 'ridiculous': 679, 'wonder': 680, 'mountain': 681, 'lion': 682, 'completely': 683, 'bet': 684, 'babylon': 685, 'features': 686, 'soap': 687, 'drama': 688, 'series': 689, 'aired': 690, 'san': 691, 'unfortunately': 692, 'vibe': 693, 'voices': 694, 'happening': 695, 'party': 696, 'anywhere': 697, 'american': 698, 'simple': 699, 'focused': 700, 'ignored': 701, \"larry's\": 702, '80s': 703, '90s': 704, 'rich': 705, 'musicians': 706, 'take': 707, 'stand': 708, 'line': 709, 'frustrating': 710, 'attempts': 711, 'mouse': 712, 'disapointed': 713, \"allman's\": 714, '8': 715, 'ed': 716, \"wood's\": 717, 'lisa': 718, 'where': 719, 'information': 720, 'starting': 721, 'historical': 722, 'cost': 723, 'starter': 724, 'collection': 725, 'nor': 726, 'lived': 727, 'mp3': 728, 'background': 729, 'lyrics': 730, 'plus': 731, 'refund': 732, 'name': 733, 'space': 734, 'negative': 735, 'keys': 736, 'color': 737, 'choices': 738, 'piece': 739, 'function': 740, 'flash': 741, 'annoying': 742, 'replace': 743, 'bonus': 744, 'defective': 745, 'number': 746, 'week': 747, \"isn't\": 748, 'loud': 749, 'c': 750, 'barely': 751, 'lightweight': 752, 'romanian': 753, 'guides': 754, 'reference': 755, 'guide': 756, 'thank': 757, 'lonely': 758, 'planet': 759, 'buying': 760, 'pages': 761, 'course': 762, 'kid': 763, 'jay': 764, 'depends': 765, 'sent': 766, '12': 767, 'date': 768, 'ahead': 769, 'gem': 770, 'complex': 771, 'itself': 772, 'entire': 773, 'shipping': 774, 'said': 775, 'africa': 776, 'voice': 777, 'recorded': 778, 'ripped': 779, 'sadly': 780, 'place': 781, 'john': 782, 'neither': 783, 'essentially': 784, 'yr': 785, 'friendly': 786, 'rooms': 787, 'finding': 788, 'gems': 789, 'adventure': 790, 'prince': 791, 'head': 792, 'crying': 793, 'currently': 794, 'leave': 795, 'hoping': 796, 'imagination': 797, 'choose': 798, 'kids': 799, 'girls': 800, 'ages': 801, 'decorate': 802, 'x': 803, 'classic': 804, 'multiple': 805, 'tasks': 806, 'future': 807, 'smells': 808, 'freesia': 809, 'existent': 810, 'dubbing': 811, 'original': 812, 'sooo': 813, 'suc': 814, 'record': 815, 'production': 816, \"they've\": 817, 'screw': 818, 'sad': 819, 'somethin': 820, 'steve': 821, 'southside': 822, 'farm': 823, 'version': 824, 'drew': 825, 'idea': 826, 'comfy': 827, 'warm': 828, 'run': 829, 'july': 830, 'ariel': 831, 'consumers': 832, 'alike': 833, 'rock': 834, 'debut': 835, 'band': 836, 'nite': 837, 'duran': 838, 'release': 839, 'classical': 840, 'silly': 841, 'stuning': 842, 'gamer': 843, 'paints': 844, 'senery': 845, 'recomend': 846, 'vid': 847, 'backs': 848, 'crude': 849, 'keyboarding': 850, 'fresher': 851, 'step': 852, 'grate': 853, 'soulful': 854, 'orchestras': 855, 'impress': 856, 'cares': 857, 'saying': 858, \"'game\": 859, \"soundtrack'\": 860, 'disagree': 861, 'opinino': 862, 'ultimate': 863, 'timeless': 864, 'listening': 865, 'beauty': 866, 'simply': 867, 'refuses': 868, 'fade': 869, 'tag': 870, 'staggering': 871, 'penny': 872, 'hands': 873, 'intense': 874, 'sadness': 875, 'means': 876, 'promise': 877, 'stole': 878, 'personally': 879, 'throughout': 880, 'teen': 881, 'higher': 882, 'energy': 883, 'dreamwatch': 884, 'indefinably': 885, 'remeniscent': 886, 'trigger': 887, 'superb': 888, \"composer's\": 889, 'xenogears': 890, 'relaxing': 891, 'peaceful': 892, 'favorites': 893, 'scars': 894, 'death': 895, 'forest': 896, 'illusion': 897, 'fortress': 898, 'dragons': 899, 'lost': 900, 'fragment': 901, 'drowned': 902, 'valley': 903, 'draggons': 904, 'galdorb': 905, 'gale': 906, 'girlfriend': 907, 'zelbessdisk': 908, 'garden': 909, 'chronopolis': 910, 'fates': 911, 'jellyfish': 912, 'burning': 913, 'orphange': 914, \"dragon's\": 915, 'prayer': 916, 'tower': 917, 'unstealable': 918, 'xander': 919, 'jaw': 920, 'floor': 921, 'hearing': 922, 'tells': 923, 'greatest': 924, 'magical': 925, 'wind': 926, 'unstolen': 927, 'translation': 928, 'varies': 929, 'ask': 930, 'mitsuda': 931, 'poured': 932, 'taking': 933, 'aware': 934, 'contributed': 935, 'greatly': 936, 'cds': 937, 'exact': 938, 'count': 939, 'rendering': 940, 'impressively': 941, 'remarkable': 942, 'assure': 943, 'listener': 944, 'paced': 945, 'energetic': 946, 'dancing': 947, 'tokage': 948, 'termina': 949, 'slower': 950, 'haunting': 951, 'purely': 952, 'fantastic': 953, 'vocals': 954, 'videogame': 955, 'soundtracks': 956, 'surely': 957, 'self': 958, 'published': 959, 'paragraphs': 960, \"haddon's\": 961, 'imagine': 962, 'evening': 963, 'friend': 964, 'hysterics': 965, 'bits': 966, 'pieces': 967, 'entered': 968, 'contest': 969, 'sells': 970, 'offer': 971, '8th': 972, 'term': 973, 'kill': 974, 'mockingbird': 975, 'joke': 976, 'glorious': 977, 'pleasantly': 978, 'changes': 979, 'normaly': 980, 'raving': 981, 'typical': 982, 'crime': 983, 'becuase': 984, 'warming': 985, 'fell': 986, 'caracters': 987, 'average': 988, 'predict': 989, 'outcome': 990, 'shocked': 991, 'writting': 992, 'descriptive': 993, 'broke': 994, \"julia's\": 995, 'reader': 996, 'spectacular': 997, 'whispers': 998, 'coming': 999, 'typographical': 1000, 'errors': 1001, 'pathetic': 1002, 'embarrassed': 1003, 'twist': 1004, 'turns': 1005, 'keeps': 1006, 'guessing': 1007, 'happen': 1008, 'fall': 1009, 'heat': 1010, 'angery': 1011, 'throu': 1012, 'emotions': 1013, 'realistic': 1014, 'error': 1015, 'writer': 1016, 'loving': 1017, 'revengeful': 1018, 'twisted': 1019, 'glass': 1020, 'novel': 1021, 'discerning': 1022, 'drivel': 1023, 'typo': 1024, 'prominently': 1025, 'page': 1026, 'intentional': 1027, 'churning': 1028, 'heated': 1029, 'prose': 1030, 'satiric': 1031, 'purposes': 1032, 'phew': 1033, '95': 1034, 'beyond': 1035, 'belief': 1036, 'wasting': 1037, '7th': 1038, 'grader': 1039, 'grammatical': 1040, 'skills': 1041, 'points': 1042, 'misspelling': 1043, 'per': 1044, 'chapter': 1045, 'example': 1046, 'mentioned': 1047, 'lean': 1048, 'distracted': 1049, 'weak': 1050, 'pencil': 1051, 'mark': 1052, 'spelling': 1053, \"author's\": 1054, 'relatives': 1055, 'faith': 1056, 'try': 1057, 'fake': 1058, 'glaringly': 1059, 'obvious': 1060, 'glowing': 1061, 'misspellings': 1062, 'sentence': 1063, 'structure': 1064, 'veronica': 1065, 'romantic': 1066, 'baseball': 1067, 'folks': 1068, \"'em\": 1069, 'talking': 1070, 'cuban': 1071, 'searching': 1072, 'idenity': 1073, 'stumbles': 1074, 'coastal': 1075, 'resort': 1076, 'gig': 1077, 'motorcycle': 1078, 'maintenance': 1079, 'hysterical': 1080, 'italian': 1081, 'chefs': 1082, 'latino': 1083, 'fireballing': 1084, 'handed': 1085, 'pitcher': 1086, 'team': 1087, 'sponsored': 1088, \"resort's\": 1089, 'owner': 1090, 'case': 1091, \"'finds'\": 1092, 'honest': 1093, 'comical': 1094, 'emotional': 1095, 'sizzling': 1096, 'roster': 1097, 'players': 1098, 'special': 1099, 'effects': 1100, 'flashbacks': 1101, 'fashionable': 1102, 'dvt': 1103, 'doctor': 1104, 'required': 1105, 'wore': 1106, 'ugly': 1107, 'ted': 1108, 'hose': 1109, 'yucky': 1110, 'thick': 1111, 'brown': 1112, 'regular': 1113, 'pantyhose': 1114, 'blood': 1115, 'clot': 1116, 'legs': 1117, 'note': 1118, 'rubberized': 1119, 'tops': 1120, 'adhesive': 1121, 'hated': 1122, 'pulled': 1123, 'inexpensive': 1124, 'garter': 1125, 'belt': 1126, 'helps': 1127, 'difficult': 1128, 'older': 1129, 'workout': 1130, 'wears': 1131, 'roll': 1132, 'deep': 1133, 'ridge': 1134, 'difficulties': 1135, 'addressed': 1136, 'internet': 1137, 'mens': 1138, 'sedentary': 1139, 'types': 1140, 'active': 1141, 'consistently': 1142, 'rolled': 1143, 'ankles': 1144, 'solution': 1145, 'stocking': 1146, '30': 1147, 'stock': 1148, '114622': 1149, 'stays': 1150, 'tore': 1151, 'struggled': 1152, 'riddance': 1153, 'investment': 1154, 'delicious': 1155, 'knowing': 1156, 'header': 1157, 'noticed': 1158, 'baking': 1159, 'convenience': 1160, 'wrapped': 1161, 'logs': 1162, 'surprise': 1163, 'mixing': 1164, 'messy': 1165, 'sticky': 1166, 'flexibility': 1167, 'ratio': 1168, 'extra': 1169, 'butter': 1170, 'chewy': 1171, 'large': 1172, 'chocolate': 1173, 'chips': 1174, 'addition': 1175, \"'natural\": 1176, \"flavors'\": 1177, 'abysmal': 1178, 'digital': 1179, 'rather': 1180, 'insect': 1181, 'droppings': 1182, 'random': 1183, 'pixelations': 1184, 'combined': 1185, 'muddy': 1186, 'vague': 1187, 'image': 1188, 'resolution': 1189, 'cue': 1190, 'straight': 1191, 'street': 1192, 'corner': 1193, 'bootleg': 1194, 'dealer': 1195, 'reasonably': 1196, 'condition': 1197, 'defining': 1198, 'crystal': 1199, 'lighting': 1200, 'contrasts': 1201, 'black': 1202, 'countryside': 1203, \"'old\": 1204, \"home'\": 1205, 'morning': 1206, 'ground': 1207, 'mists': 1208, 'haze': 1209, 'events': 1210, 'bridge': 1211, 'water': 1212, 'bright': 1213, 'immediate': 1214, 'dark': 1215, 'clouded': 1216, 'timbre': 1217, 'enunciation': 1218, \"captain's\": 1219, 'commands': 1220, 'award': 1221, 'critically': 1222, 'acclaimed': 1223, \"film's\": 1224, 'presentation': 1225, '16mm': 1226, 'reel': 1227, 'appear': 1228, 'fascinating': 1229, 'insight': 1230, 'rising': 1231, 'sons': 1232, 'daughters': 1233, 'society': 1234, 'poised': 1235, \"parents'\": 1236, 'restraint': 1237, 'obedience': 1238, \"peers'\": 1239, 'adulation': 1240, 'western': 1241, 'form': 1242, 'creating': 1243, 'international': 1244, 'blend': 1245, 'ando': 1246, 'demonstrates': 1247, 'private': 1248, 'lives': 1249, 'members': 1250, 'steven': 1251, 'wardell': 1252, 'talented': 1253, 'adopted': 1254, 'schooling': 1255, 'thus': 1256, 'liked': 1257, 'blue': 1258, 'angel': 1259, 'lanna': 1260, \"'mama\": 1261, 'hair': 1262, 'rose': 1263, 'roy': 1264, 'trully': 1265, 'singer': 1266, 'talent': 1267, 'days': 1268, 'aaas': 1269, 'huge': 1270, 'securing': 1271, 'pop': 1272, 'hold': 1273, 'mechanism': 1274, 'became': 1275, 'loose': 1276, 'pressure': 1277, 'push': 1278, 'duct': 1279, 'segment': 1280, 'apply': 1281, 'wrap': 1282, 'painful': 1283, 'advertised': 1284, 'chargers': 1285, 'battery': 1286, 'dont': 1287, '24': 1288, 'useless': 1289, 'backup': 1290, 'manage': 1291, 'drain': 1292, 'aas': 1293, 'convenient': 1294, 'lasts': 1295, 'kodak': 1296, 'nimh': 1297, 'dear': 1298, 'ostensibly': 1299, 'feminism': 1300, 'describes': 1301, 'veil': 1302, 'potentially': 1303, 'liberating': 1304, 'explain': 1305, 'cape': 1306, 'town': 1307, 'separate': 1308, 'equal': 1309, 'gee': 1310, 'whiz': 1311, 'hoped': 1312, 'feminist': 1313, 'condemnation': 1314, 'gender': 1315, 'apartheid': 1316, 'extolling': 1317, 'virtues': 1318, 'female': 1319, 'genital': 1320, 'mutilation': 1321, 'alyssa': 1322, 'lappen': 1323, 'christmas': 1324, 'present': 1325, 'myself': 1326, 'join': 1327, 'land': 1328, 'movies': 1329, 'agree': 1330, 'selection': 1331, 'hang': 1332, 'comments': 1333, 'intuitive': 1334, 'complicated': 1335, 'technically': 1336, 'minded': 1337, 'rely': 1338, 'heavily': 1339, 'manual': 1340, 'setting': 1341, 'timer': 1342, 'enter': 1343, 'scroll': 1344, 'complaints': 1345, 'suspiscious': 1346, 'units': 1347, 'section': 1348, 'sends': 1349, 'clicks': 1350, 'receiver': 1351, 'transition': 1352, 'smooth': 1353, 'pause': 1354, 'fairly': 1355, 'headcleaner': 1356, 'message': 1357, 'nut': 1358, 'televisions': 1359, 'bookshelf': 1360, 'car': 1361, 'compatability': 1362, 'seperate': 1363, 'inputs': 1364, 'coax': 1365, 'mono': 1366, 'difference': 1367, \"she's\": 1368, \"i'll\": 1369, 'titled': 1370, 'hollywood': 1371, 'debacle': 1372, 'script': 1373, 'breaks': 1374, 'trailer': 1375, 'cars': 1376, 'captured': 1377, 'jail': 1378, 'cell': 1379, 'utterly': 1380, 'stupid': 1381, 'incredible': 1382, 'acting': 1383, 'tamzin': 1384, 'outhwaite': 1385, 'formerly': 1386, 'eastenders': 1387, 'max': 1388, 'beesley': 1389, 'ill': 1390, 'fated': 1391, 'glitter': 1392, 'starring': 1393, 'mariah': 1394, 'carey': 1395, 'opera': 1396, 'mixed': 1397, 'america': 1398, 'seeing': 1399, 'episodes': 1400, 'season': 1401, 'finale': 1402, 'reminds': 1403, 'abc': 1404, '1983': 1405, '1988': 1406, 'reason': 1407, 'fictional': 1408, 'francisco': 1409, 'luxury': 1410, 'england': 1411, 'willing': 1412, 'casually': 1413, 'applying': 1414, 'law': 1415, 'school': 1416, 'seriously': 1417, 'entertaining': 1418, 'hip': 1419, 'daddy': 1420, 'dismay': 1421, 'fourth': 1422, 'class': 1423, 'main': 1424, 'jist': 1425, 'xylaphone': 1426, 'peoples': 1427, 'trying': 1428, 'replicate': 1429, 'neighborhood': 1430, 'laughed': 1431, 'beach': 1432, 'growing': 1433, 'surfer': 1434, 'diego': 1435, 'california': 1436, 'brothers': 1437, 'honestly': 1438, 'kinda': 1439, 'b': 1440, 'absolutle': 1441, 'epitimy': 1442, 'surf': 1443, 'surfers': 1444, 'rochelle': 1445, 'explains': 1446, 'wondering': 1447, 'hell': 1448, 'happened': 1449, 'moral': 1450, 'aspect': 1451, 'lucid': 1452, 'argued': 1453, 'explanation': 1454, 'become': 1455, 'individual': 1456, 'rights': 1457, 'mocked': 1458, 'personal': 1459, 'responsibilities': 1460, 'final': 1461, 'indictment': 1462, 'robert': 1463, \"ringer's\": 1464, 'disgusted': 1465, 'boorish': 1466, 'state': 1467, 'media': 1468, 'politics': 1469, 'discourse': 1470, 'general': 1471, 'heads': 1472, 'substantial': 1473, 'challenges': 1474, 'lie': 1475, 'americans': 1476, 'beings': 1477, 'muse': 1478, 'exploring': 1479, 'catalog': 1480, 'jazz': 1481, 'standards': 1482, 'grew': 1483, 'himself': 1484, 'larry': 1485, 'relaxed': 1486, 'valentine': 1487, 'chet': 1488, \"baker's\": 1489, \"miles'\": 1490, \"you'll\": 1491, 'windows': 1492, \"hasn't\": 1493, 'touched': 1494, 'segments': 1495, 'arrows': 1496, 'keyboard': 1497, 'numbing': 1498, 'holds': 1499, \"son's\": 1500, 'level': 1501, 'rescue': 1502, 'heroes': 1503, 'dog': 1504, 'cannot': 1505, 'former': 1506, 'alaskan': 1507, 'repeatedly': 1508, 'attempting': 1509, 'throw': 1510, 'cups': 1511, 'flour': 1512, 'miscellaneous': 1513, 'nearly': 1514, 'comparing': 1515, 'flawlessly': 1516, \"rayner's\": 1517, 'artisan': 1518, 'breads': 1519, 'fail': 1520, 'novice': 1521, 'baker': 1522, 'worked': 1523, 'reliably': 1524, 'pancakes': 1525, 'recipe': 1526, 'reliable': 1527, 'concise': 1528, 'maintaining': 1529, 'ones': 1530, 'rayner': 1531, 'fabulous': 1532, 'tome': 1533, 'pass': 1534, 'warrant': 1535, 'visiting': 1536, 'brother': 1537, 'advise': 1538, 'ruth': 1539, 'past': 1540, '100': 1541, 'mixer': 1542, 'civilized': 1543, 'stuffs': 1544, 'pot': 1545, 'autumn': 1546, 'nc': 1547, 'prefect': 1548, 'closer': 1549, 'download': 1550, 'waxed': 1551, 'decades': 1552, '26': 1553, 'gymnastic': 1554, 'dance': 1555, 'feat': 1556, 'russia': 1557, 'hunted': 1558, 'melody': 1559, 'downloaded': 1560, 'via': 1561, 'downloader': 1562, 'happily': 1563, 'melodies': 1564, 'interspersed': 1565, 'ipod': 1566, 'experience': 1567, 'fm': 1568, 'rattled': 1569, 'loudly': 1570, 'thru': 1571, 'middle': 1572, 'reviewers': 1573, 'dead': 1574, 'layout': 1575, 'engineering': 1576, 'imo': 1577, 'under': 1578, 'emerson': 1579, '400': 1580, 'wm': 1581, 'hesitant': 1582, 'sylvania': 1583, '6620ldg': 1584, 'flat': 1585, 'panel': 1586, 'lcd': 1587, 'built': 1588, 'weight': 1589, 'saving': 1590, 'attractive': 1591, 'design': 1592, 'sharp': 1593, 'playback': 1594, 'functions': 1595, 'due': 1596, 'placement': 1597, 'illogical': 1598, 'carefully': 1599, 'designed': 1600, 'imbecil': 1601, 'terrible': 1602, 'birthday': 1603, 'toreturn': 1604, 'palyer': 1605, 'repalcement': 1606, 'failed': 1607, 'junk': 1608, 'capable': 1609, 'channels': 1610, 'sony': 1611, 'universal': 1612, 'learned': 1613, 'factory': 1614, 'capability': 1615, '13': 1616, 'tube': 1617, 'gained': 1618, 'larger': 1619, 'relcaiming': 1620, 'counter': 1621, 'internal': 1622, 'electronics': 1623, 'express': 1624, 'rma': 1625, 'fedex': 1626, 'picked': 1627, 'later': 1628, 'clarity': 1629, 'complaint': 1630, 'mode': 1631, 'solved': 1632, 'jack': 1633, 'stereo': 1634, 'speaker': 1635, 'jacks': 1636, 'antenna': 1637, 'biased': 1638, 'angle': 1639, 'clean': 1640, 'proper': 1641, 'fails': 1642, 'shed': 1643, 'tourist': 1644, 'tour': 1645, 'country': 1646, 'forgotten': 1647, 'outlining': 1648, 'exclude': 1649, 'romania': 1650, 'precision': 1651, 'detail': 1652, \"dk's\": 1653, 'realy': 1654, 'everybody': 1655, 'illustration': 1656, 'texts': 1657, 'sights': 1658, 'cities': 1659, 'european': 1660, 'traveled': 1661, 'eyewitness': 1662, 'info': 1663, 'ended': 1664, 'indiv': 1665, 'city': 1666, 'surface': 1667, 'moving': 1668, 'germany': 1669, 'wanted': 1670, 'overview': 1671, '457': 1672, '480': 1673, 'greece': 1674, 'spanish': 1675, 'sort': 1676, 'printing': 1677, 'highlights': 1678, 'memphis': 1679, 'tn': 1680, 'reatards': 1681, 'fronted': 1682, 'reatard': 1683, 'eric': 1684, 'oblivians': 1685, 'goner': 1686, 'tender': 1687, '19': 1688, 'rocking': 1689, 'offending': 1690, 'sensibilities': 1691, 'overdriven': 1692, 'crackling': 1693, 'underlaying': 1694, \"jay's\": 1695, 'crooning': 1696, 'howl': 1697, 'energizes': 1698, 'filled': 1699, \"we've\": 1700, 'feet': 1701, 'od': 1702, 'copper': 1703, 'pipe': 1704, '0': 1705, 'accept': 1706, 'returns': 1707, 'foot': 1708, 'sell': 1709, '40': 1710, '50': 1711, 'hunting': 1712, 'way': 1713, 'thia': 1714, 'husband': 1715, 'disappointing': 1716, 'text': 1717, 'plates': 1718, 'markedly': 1719, 'inferior': 1720, 'editions': 1721, 'known': 1722, 'homer': 1723, 'moses': 1724, 'helpful': 1725, 'subject': 1726, 'century': 1727, 'religious': 1728, 'authority': 1729, 'textual': 1730, 'serious': 1731, 'period': 1732, 'interelation': 1733, 'cultures': 1734, 'essential': 1735, 'detailed': 1736, 'argue': 1737, 'yes': 1738, 'disagreeing': 1739, 'above': 1740, 'cardboard': 1741, 'beat': 1742, 'cheesy': 1743, 'finish': 1744, 'worn': 1745, 'solid': 1746, 'brass': 1747, 'decent': 1748, 'distance': 1749, 'scraped': 1750, 'noticeable': 1751, 'scrapes': 1752, 'gigantic': 1753, 'plenty': 1754, 'material': 1755, 'loosely': 1756, 'bottom': 1757, 'scraping': 1758, 'exchanging': 1759, 'risk': 1760, 'unknown': 1761, 'profesionally': 1762, 'produced': 1763, 'mixture': 1764, 'soukous': 1765, 'fado': 1766, 'african': 1767, 'feeling': 1768, 'rithem': 1769, 'soft': 1770, 'borred': 1771, 'oliver': 1772, \"n'goma\": 1773, 'fits': 1774, 'pefectly': 1775, 'france': 1776, 'paris': 1777, 'professionals': 1778, 'working': 1779, 'hot': 1780, 'lazy': 1781, 'greetings': 1782, 'arno': 1783, 'amsterdam': 1784, 'shoes': 1785, 'apart': 1786, 'sole': 1787, 'clark': 1788, 'shoe': 1789, 'within': 1790, 'months': 1791, 'similar': 1792, 'sperry': 1793, 'holding': 1794, 'profound': 1795, 'narrative': 1796, 'famous': 1797, \"founders'\": 1798, 'biographer': 1799, 'arrogant': 1800, 'flippant': 1801, 'frequently': 1802, 'exaggerated': 1803, 'carries': 1804, 'tone': 1805, 'amateur': 1806, 'yankee': 1807, 'historian': 1808, 'passing': 1809, 'judgment': 1810, 'statesman': 1811, 'boston': 1812, 'harvard': 1813, 'graduate': 1814, 'considered': 1815, 'penetrating': 1816, 'represents': 1817, 'today': 1818, 'research': 1819, 'thin': 1820, 'conclude': 1821, 'manuscript': 1822, 'primary': 1823, 'secondary': 1824, 'sources': 1825, 'historians': 1826, \"weren't\": 1827, '110': 1828, 'rated': 1829, 'computer': 1830, 'enjoying': 1831, 'completed': 1832, 'worried': 1833, 'colors': 1834, 'vibrant': 1835, 'started': 1836, 'mommy': 1837, 'tons': 1838, '42': 1839, 'together': 1840, 'alone': 1841, 'creativity': 1842, 'addicted': 1843, 'opening': 1844, 'singing': 1845, 'stop': 1846, 'completes': 1847, 'finds': 1848, 'solving': 1849, 'maze': 1850, 'stefan': 1851, 'sings': 1852, 'challenge': 1853, 'clicking': 1854, 'programmed': 1855, 'save': 1856, 'sobbing': 1857, 'bedroom': 1858, 'result': 1859, 'rotten': 1860, 'hour': 1861, 'painting': 1862, 'coloring': 1863, 'flowers': 1864, 'halfway': 1865, 'program': 1866, 'hung': 1867, 'click': 1868, 'exit': 1869, 'frozen': 1870, 'spot': 1871, \"barbie's\": 1872, 'disembodied': 1873, 'urges': 1874, 'explore': 1875, 'troubleshooting': 1876, 'rebooting': 1877, 'vivendi': 1878, \"games'\": 1879, 'site': 1880, 'disabled': 1881, 'weeping': 1882, 'fault': 1883, 'incompetent': 1884, \"couldn't\": 1885, 'catch': 1886, 'bug': 1887, 'caught': 1888, 'care': 1889, 'bucks': 1890, 'avoid': 1891, 'granddaughter': 1892, 'lets': 1893, 'plan': 1894, 'programs': 1895, 'fight': 1896, 'paint': 1897, 'themes': 1898, 'allows': 1899, \"prince's\": 1900, 'crown': 1901, 'stephan': 1902, 'stone': 1903, 'bring': 1904, 'animation': 1905, 'boring': 1906, 'adult': 1907, 'variations': 1908, 'schemes': 1909, 'patterns': 1910, 'bored': 1911, 'highly': 1912, 'rental': 1913, 'exciting': 1914, 'username': 1915, 'yourself': 1916, 'sister': 1917, 'requires': 1918, 'computers': 1919, 'access': 1920, 'everytime': 1921, 'task': 1922, 'openning': 1923, 'sequence': 1924, 'throwing': 1925, 'saved': 1926, 'files': 1927, 'controls': 1928, 'adults': 1929, 'crashes': 1930, 'jumpy': 1931, 'possible': 1932, 'grand': 1933, 'patience': 1934, 'survive': 1935, 'trials': 1936, 'substitute': 1937, 'importcds': 1938, 'vendor': 1939, 'recieve': 1940, 'rate': 1941, 'bother': 1942, 'orginally': 1943, 'persons': 1944, 'company': 1945, 'mistake': 1946, 'businees': 1947, 'spend': 1948, 'hundreds': 1949, 'dollars': 1950, 'month': 1951, 'com': 1952, 'building': 1953, 'careful': 1954, 'bottle': 1955, 'fragrance': 1956, 'delicate': 1957, 'summer': 1958, 'perfume': 1959, 'recipient': 1960, 'impressed': 1961, 'creepy': 1962, 'jealousy': 1963, 'revenge': 1964, 'doors': 1965, 'open': 1966, 'prepared': 1967, 'didnt': 1968, 'option': 1969, 'menu': 1970, 'stated': 1971, 'package': 1972, 'exist': 1973, 'matter': 1974, 'exceptions': 1975, 'sub': 1976, 'par': 1977, 'covers': 1978, 'remain': 1979, 'shame': 1980, 'sham': 1981, 'offering': 1982, 'tokyo': 1983, 'shock': 1984, \"jammin'\": 1985, 'trill': 1986, 'jammin': 1987, \"pokey's\": 1988, 'official': 1989, 'sh': 1990, 'screwed': 1991, 'records': 1992, 'fallen': 1993, 'downsized': 1994, 'deaths': 1995, 'pioneers': 1996, 'ya': 1997, 'tx': 1998, 'rap': 1999, 'gotta': 2000, 'kickback': 2001, 'blow': 2002, 'jam': 2003, 'ride': 2004, 'underrated': 2005, 'bullsh': 2006, 'mtv': 2007, \"what's\": 2008, 'houston': 2009, \"pat's\": 2010, \"hawk's\": 2011, 'moe': 2012, 'pimp': 2013, 'regardless': 2014, 'pokey': 2015, 'keeping': 2016, 'legacy': 2017, 'dirty': 2018, 'south': 2019, 'guest': 2020, 'fat': 2021, 'pat': 2022, 'botany': 2023, 'mr': 2024, 'chris': 2025, 'ward': 2026, 'h': 2027, 'w': 2028, 'k': 2029, 'chronicles': 2030, 'photos': 2031, 'photo': 2032, 'shewas': 2033, 'til': 2034, 'revised': 2035, 'weeks': 2036, 'maid': 2037, 'israel': 2038, 'bill': 2039, 'harvey': 2040, 'history': 2041, 'awakens': 2042, 'possiblility': 2043, 'relationship': 2044, 'faithfulness': 2045, 'times': 2046, 'treasures': 2047, 'keeper': 2048, 'draw': 2049, 'lounging': 2050, 'june': 2051, '27': 2052, 'given': 2053, 'estimated': 2054, 'dates': 2055, 'went': 2056, 'filed': 2057, 'claim': 2058, 'receiving': 2059, '16': 2060, 'apologized': 2061, 'mishap': 2062, \"seller's\": 2063, 'wrong': 2064, 'litte': 2065, 'mermaid': 2066, 'pearl': 2067, 'kit': 2068, 'cute': 2069, 'provide': 2070, 'annoyed': 2071, 'included': 2072, 'trust': 2073, 'promised': 2074, 'additional': 2075, 'pledge': 2076, 'sweet': 2077, 'graces': 2078, 'email': 2079, 'supply': 2080, 'list': 2081, 'instruction': 2082, 'sheets': 2083, 'ready': 2084, 'figurine': 2085, 'bracelet': 2086, 'boot': 2087, 'contact': 2088, 'phone': 2089, 'manufacturer': 2090, \"let's\": 2091, 'yields': 2092, 'results': 2093, 'meanwhile': 2094, 'wishing': 2095, 'unreliable': 2096, 'critics': 2097, 'released': 2098, 'defunct': 2099, 'almo': 2100, 'chock': 2101, 'radio': 2102, 'hits': 2103, 'djs': 2104, 'mash': 2105, 'remix': 2106, 'bootlegs': 2107, 'fledged': 2108, \"year's\": 2109, 'critcs': 2110, \"album's\": 2111, 'electro': 2112, 'hopefully': 2113, 'cheeky': 2114, 'recalling': 2115, 'bands': 2116, 'singles': 2117, 'clubs': 2118, 'garner': 2119, 'sales': 2120, 'practically': 2121, 'leap': 2122, 'speakers': 2123, 'grab': 2124, 'tiga': 2125, 'upcoming': 2126, 'sexor': 2127, 'omg': 2128, 'owns': 2129, 'rocks': 2130, 'specially1': 2131, 'e': 2132, 'talking2': 2133, 'nylipps3': 2134, 'techo': 2135, 'guysmusicchoice': 2136, 'saturday': 2137, 'jamming': 2138, \"you're\": 2139, 'techno': 2140, 'electronic': 2141, 'cause': 2142, 'jason': 2143, 'bateman': 2144, 'lead': 2145, 'moments': 2146, 'relief': 2147, 'minimum': 2148, 'action': 2149, 'suspense': 2150, 'achieves': 2151, 'suggest': 2152, 'skipping': 2153, 'releasing': 2154, 'powers': 2155, 'finally': 2156, \"80's\": 2157, 'wriiten': 2158, 'horribly': 2159, 'lacked': 2160, 'mystery': 2161, 'culprit': 2162, 'ten': 2163, 'twelve': 2164, 'educational': 2165, 'trains': 2166, 'shapes': 2167, 'pegs': 2168, 'guaranteed': 2169, 'parent': 2170, 'puzzle': 2171, 'range': 2172, 'ludicrous': 2173, 'faintly': 2174, 'entertain': 2175, 'lots': 2176, 'odd': 2177, 'ideas': 2178, 'theories': 2179, 'artistry': 2180, 'deodato': 2181, 'concerts': 2182, 'strings': 2183, 'appreciate': 2184, 'tropea': 2185, 'excelent': 2186, 'renditions': 2187, 'guitar': 2188, 'caution': 2189, 'remastered': 2190, 'irrelevant': 2191}\n",
            "Found 2191 unique tokens.\n"
          ],
          "name": "stdout"
        }
      ]
    },
    {
      "cell_type": "code",
      "metadata": {
        "id": "zFy4RWitul6M",
        "colab_type": "code",
        "outputId": "15b0a268-cb48-40f7-9195-1073136254a9",
        "colab": {
          "base_uri": "https://localhost:8080/",
          "height": 34
        }
      },
      "source": [
        "print(results.shape)"
      ],
      "execution_count": 46,
      "outputs": [
        {
          "output_type": "stream",
          "text": [
            "(100, 10, 1000)\n"
          ],
          "name": "stdout"
        }
      ]
    },
    {
      "cell_type": "markdown",
      "metadata": {
        "id": "VrPaAWiMLCYw",
        "colab_type": "text"
      },
      "source": [
        "# 4) **Validate the how much they are similar. Try to maximize the similarity (ideally should be 100% the same). Specify the reason if both are not the same.**"
      ]
    },
    {
      "cell_type": "code",
      "metadata": {
        "id": "x1H8DKbVKCg1",
        "colab_type": "code",
        "colab": {}
      },
      "source": [
        ""
      ],
      "execution_count": 0,
      "outputs": []
    },
    {
      "cell_type": "markdown",
      "metadata": {
        "id": "msxw0tinLegM",
        "colab_type": "text"
      },
      "source": [
        "# **5) Try to implement word-embedding using code given in listing (6.7) and shared with me the embedding array as well as the word dictionary**"
      ]
    },
    {
      "cell_type": "code",
      "metadata": {
        "id": "-3ef0Qp2LBp-",
        "colab_type": "code",
        "colab": {
          "base_uri": "https://localhost:8080/",
          "height": 51
        },
        "outputId": "f527f341-2df9-4483-be5b-4fbc622389b9"
      },
      "source": [
        "import numpy as np # converting list to array\n",
        "\n",
        "texts = np.asarray(texts[:360000])\n",
        "labels = np.asarray(labels[:360000])\n",
        "\n",
        "print('Shape of texts tensor:', texts.shape)\n",
        "print('Shape of label tensor:', labels.shape)"
      ],
      "execution_count": 47,
      "outputs": [
        {
          "output_type": "stream",
          "text": [
            "Shape of texts tensor: (360000,)\n",
            "Shape of label tensor: (360000,)\n"
          ],
          "name": "stdout"
        }
      ]
    },
    {
      "cell_type": "code",
      "metadata": {
        "id": "uwRAGcT8LNCm",
        "colab_type": "code",
        "colab": {}
      },
      "source": [
        "maxlen = 100               # Cuts off reviews after 100 words\n",
        "training_samples = 200     # Trains on 200 samples\n",
        "validation_samples = 10000 # Validates on 10,000 samples\n",
        "max_words = 10000          # Considers only the top 10,000 words in the dataset"
      ],
      "execution_count": 0,
      "outputs": []
    },
    {
      "cell_type": "code",
      "metadata": {
        "id": "XXy6KrO8LP_k",
        "colab_type": "code",
        "colab": {}
      },
      "source": [
        "from tensorflow.keras.preprocessing.text import Tokenizer\n",
        "\n",
        "tokenizer = Tokenizer(num_words=max_words)    # max_words = 10000 \n",
        "tokenizer.fit_on_texts(texts)\n",
        "sequences = tokenizer.texts_to_sequences(texts)"
      ],
      "execution_count": 0,
      "outputs": []
    },
    {
      "cell_type": "code",
      "metadata": {
        "id": "KSyrzPFzL7W_",
        "colab_type": "code",
        "colab": {
          "base_uri": "https://localhost:8080/",
          "height": 34
        },
        "outputId": "df071c61-e8fa-4db2-b910-2b8657d2cac0"
      },
      "source": [
        "word_index = tokenizer.word_index\n",
        "print('Found %s unique tokens.' % len(word_index))"
      ],
      "execution_count": 50,
      "outputs": [
        {
          "output_type": "stream",
          "text": [
            "Found 262218 unique tokens.\n"
          ],
          "name": "stdout"
        }
      ]
    },
    {
      "cell_type": "code",
      "metadata": {
        "id": "znSIkRfBMB1z",
        "colab_type": "code",
        "colab": {}
      },
      "source": [
        "from tensorflow.keras.preprocessing.sequence import pad_sequences\n",
        "\n",
        "data = pad_sequences(sequences, maxlen=maxlen)  # maxlen = 100"
      ],
      "execution_count": 0,
      "outputs": []
    },
    {
      "cell_type": "code",
      "metadata": {
        "id": "J0j3s-i6MJ5T",
        "colab_type": "code",
        "colab": {
          "base_uri": "https://localhost:8080/",
          "height": 85
        },
        "outputId": "5fb0ed76-4367-4413-e9da-ddaa93fdf1d1"
      },
      "source": [
        "from sklearn.model_selection import train_test_split\n",
        "\n",
        "x_train, x_test, y_train, y_test = train_test_split(data,labels)\n",
        "\n",
        "print(\"x_train :\",x_train.shape)\n",
        "print(\"x_test :\",x_test.shape)\n",
        "print(\"y_train :\",y_train.shape)\n",
        "print(\"y_test :\",y_test.shape)"
      ],
      "execution_count": 52,
      "outputs": [
        {
          "output_type": "stream",
          "text": [
            "x_train : (270000, 100)\n",
            "x_test : (90000, 100)\n",
            "y_train : (270000,)\n",
            "y_test : (90000,)\n"
          ],
          "name": "stdout"
        }
      ]
    },
    {
      "cell_type": "code",
      "metadata": {
        "id": "LuEPTIo0MoSF",
        "colab_type": "code",
        "colab": {
          "base_uri": "https://localhost:8080/",
          "height": 255
        },
        "outputId": "10cecc65-39f4-477c-a368-df45a3af58e5"
      },
      "source": [
        "from tensorflow.keras.models import Sequential\n",
        "from tensorflow.keras.layers import Flatten, Dense\n",
        "from tensorflow.keras.layers import Embedding\n",
        "\n",
        "\n",
        "embedding_dim = 100 # 8\n",
        "\n",
        "model = Sequential()\n",
        "# Specifies the maximum input length to the Embedding layer so that we can later\n",
        "# flatten the embedded inputs. After the Embedding layer, the activations have\n",
        "# shape (samples, maxlen, 8)\n",
        "model.add(Embedding(10000, embedding_dim, input_length=maxlen))\n",
        "\n",
        "model.add(Flatten())\n",
        "model.add(Dense(1, activation='sigmoid'))\n",
        "model.compile(optimizer='rmsprop', loss='binary_crossentropy', metrics=['acc'])\n",
        "model.summary()"
      ],
      "execution_count": 53,
      "outputs": [
        {
          "output_type": "stream",
          "text": [
            "Model: \"sequential_1\"\n",
            "_________________________________________________________________\n",
            "Layer (type)                 Output Shape              Param #   \n",
            "=================================================================\n",
            "embedding_1 (Embedding)      (None, 100, 100)          1000000   \n",
            "_________________________________________________________________\n",
            "flatten_1 (Flatten)          (None, 10000)             0         \n",
            "_________________________________________________________________\n",
            "dense_1 (Dense)              (None, 1)                 10001     \n",
            "=================================================================\n",
            "Total params: 1,010,001\n",
            "Trainable params: 1,010,001\n",
            "Non-trainable params: 0\n",
            "_________________________________________________________________\n"
          ],
          "name": "stdout"
        }
      ]
    },
    {
      "cell_type": "code",
      "metadata": {
        "id": "q3i1Iz0lNUW2",
        "colab_type": "code",
        "colab": {
          "base_uri": "https://localhost:8080/",
          "height": 357
        },
        "outputId": "c9dd7d85-3f72-44cd-e8ee-db4f7e4f9c3f"
      },
      "source": [
        "history = model.fit(x_train, y_train,\n",
        "                    epochs=10,\n",
        "                    batch_size=32,\n",
        "                    validation_split=0.2)"
      ],
      "execution_count": 54,
      "outputs": [
        {
          "output_type": "stream",
          "text": [
            "Epoch 1/10\n",
            "6750/6750 [==============================] - 57s 8ms/step - loss: 0.3052 - acc: 0.8734 - val_loss: 0.2852 - val_acc: 0.8874\n",
            "Epoch 2/10\n",
            "6750/6750 [==============================] - 58s 9ms/step - loss: 0.2420 - acc: 0.9050 - val_loss: 0.2935 - val_acc: 0.8822\n",
            "Epoch 3/10\n",
            "6750/6750 [==============================] - 56s 8ms/step - loss: 0.1817 - acc: 0.9321 - val_loss: 0.3348 - val_acc: 0.8744\n",
            "Epoch 4/10\n",
            "6750/6750 [==============================] - 57s 8ms/step - loss: 0.1270 - acc: 0.9552 - val_loss: 0.3928 - val_acc: 0.8632\n",
            "Epoch 5/10\n",
            "6750/6750 [==============================] - 56s 8ms/step - loss: 0.0877 - acc: 0.9703 - val_loss: 0.4641 - val_acc: 0.8546\n",
            "Epoch 6/10\n",
            "6750/6750 [==============================] - 58s 9ms/step - loss: 0.0612 - acc: 0.9796 - val_loss: 0.5422 - val_acc: 0.8483\n",
            "Epoch 7/10\n",
            "6750/6750 [==============================] - 56s 8ms/step - loss: 0.0445 - acc: 0.9859 - val_loss: 0.6250 - val_acc: 0.8406\n",
            "Epoch 8/10\n",
            "6750/6750 [==============================] - 57s 8ms/step - loss: 0.0332 - acc: 0.9897 - val_loss: 0.7168 - val_acc: 0.8316\n",
            "Epoch 9/10\n",
            "6750/6750 [==============================] - 57s 8ms/step - loss: 0.0252 - acc: 0.9920 - val_loss: 0.8116 - val_acc: 0.8295\n",
            "Epoch 10/10\n",
            "6750/6750 [==============================] - 55s 8ms/step - loss: 0.0197 - acc: 0.9942 - val_loss: 0.8933 - val_acc: 0.8222\n"
          ],
          "name": "stdout"
        }
      ]
    },
    {
      "cell_type": "code",
      "metadata": {
        "id": "tyFizZMUR5dy",
        "colab_type": "code",
        "colab": {
          "base_uri": "https://localhost:8080/",
          "height": 85
        },
        "outputId": "a07de409-11f0-445f-a1e0-b534a9f0b433"
      },
      "source": [
        "evaluation = model.evaluate(x_test,  y_test,batch_size=32, verbose=2)\n",
        "print()\n",
        "print(\"Test loss :\",evaluation[0]*100,\"%\")\n",
        "print(\"Test accuracy :\",evaluation[1]*100,\"%\")"
      ],
      "execution_count": 55,
      "outputs": [
        {
          "output_type": "stream",
          "text": [
            "2813/2813 - 4s - loss: 0.8795 - acc: 0.8230\n",
            "\n",
            "Test loss : 87.94628381729126 %\n",
            "Test accuracy : 82.29888677597046 %\n"
          ],
          "name": "stdout"
        }
      ]
    },
    {
      "cell_type": "markdown",
      "metadata": {
        "id": "lV4k_Ov3rBAL",
        "colab_type": "text"
      },
      "source": [
        "# **6) From 6.8 code pre-trained word-embeddings**"
      ]
    },
    {
      "cell_type": "code",
      "metadata": {
        "id": "XGRveFvirNFV",
        "colab_type": "code",
        "colab": {}
      },
      "source": [
        ""
      ],
      "execution_count": 0,
      "outputs": []
    },
    {
      "cell_type": "markdown",
      "metadata": {
        "id": "olisCWmerNxg",
        "colab_type": "text"
      },
      "source": [
        "# **7) Apply RNN to the given text (listing 6.21) and provide output**"
      ]
    },
    {
      "cell_type": "code",
      "metadata": {
        "id": "V4-FEbyurTg-",
        "colab_type": "code",
        "colab": {}
      },
      "source": [
        ""
      ],
      "execution_count": 0,
      "outputs": []
    },
    {
      "cell_type": "markdown",
      "metadata": {
        "id": "MT6vFl0prSjI",
        "colab_type": "text"
      },
      "source": [
        "# **8) Match the results of RNN (step 7) with the step 5  and also with step 6. Share the output of the analysis.**"
      ]
    },
    {
      "cell_type": "code",
      "metadata": {
        "id": "R1OIRgHqrdSU",
        "colab_type": "code",
        "colab": {}
      },
      "source": [
        ""
      ],
      "execution_count": 0,
      "outputs": []
    },
    {
      "cell_type": "code",
      "metadata": {
        "id": "-iuyFG1WbHnM",
        "colab_type": "code",
        "outputId": "c9bcc33f-6b91-465e-9d54-b5fb7f7463f2",
        "colab": {
          "base_uri": "https://localhost:8080/",
          "height": 88
        }
      },
      "source": [
        "print(type(data[5]))\n",
        "print(data[2])"
      ],
      "execution_count": 0,
      "outputs": [
        {
          "output_type": "stream",
          "text": [
            "<class 'str'>\n",
            "__label__2 Amazing!: This soundtrack is my favorite music of all time, hands down. The intense sadness of \"Prisoners of Fate\" (which means all the more if you've played the game) and the hope in \"A Distant Promise\" and \"Girl who Stole the Star\" have been an important inspiration to me personally throughout my teen years. The higher energy tracks like \"Chrono Cross ~ Time's Scar~\", \"Time of the Dreamwatch\", and \"Chronomantique\" (indefinably remeniscent of Chrono Trigger) are all absolutely superb as well.This soundtrack is amazing music, probably the best of this composer's work (I haven't heard the Xenogears soundtrack, so I can't say for sure), and even if you've never played the game, it would be worth twice the price to buy it.I wish I could give it 6 stars.\n",
            "\n"
          ],
          "name": "stdout"
        }
      ]
    },
    {
      "cell_type": "code",
      "metadata": {
        "id": "lfHTZkivbRP0",
        "colab_type": "code",
        "outputId": "3d27674a-0e72-491d-ad8b-610e55eab1cd",
        "colab": {
          "base_uri": "https://localhost:8080/",
          "height": 54
        }
      },
      "source": [
        "print(data[2].split())"
      ],
      "execution_count": 0,
      "outputs": [
        {
          "output_type": "stream",
          "text": [
            "['__label__2', 'Amazing!:', 'This', 'soundtrack', 'is', 'my', 'favorite', 'music', 'of', 'all', 'time,', 'hands', 'down.', 'The', 'intense', 'sadness', 'of', '\"Prisoners', 'of', 'Fate\"', '(which', 'means', 'all', 'the', 'more', 'if', \"you've\", 'played', 'the', 'game)', 'and', 'the', 'hope', 'in', '\"A', 'Distant', 'Promise\"', 'and', '\"Girl', 'who', 'Stole', 'the', 'Star\"', 'have', 'been', 'an', 'important', 'inspiration', 'to', 'me', 'personally', 'throughout', 'my', 'teen', 'years.', 'The', 'higher', 'energy', 'tracks', 'like', '\"Chrono', 'Cross', '~', \"Time's\", 'Scar~\",', '\"Time', 'of', 'the', 'Dreamwatch\",', 'and', '\"Chronomantique\"', '(indefinably', 'remeniscent', 'of', 'Chrono', 'Trigger)', 'are', 'all', 'absolutely', 'superb', 'as', 'well.This', 'soundtrack', 'is', 'amazing', 'music,', 'probably', 'the', 'best', 'of', 'this', \"composer's\", 'work', '(I', \"haven't\", 'heard', 'the', 'Xenogears', 'soundtrack,', 'so', 'I', \"can't\", 'say', 'for', 'sure),', 'and', 'even', 'if', \"you've\", 'never', 'played', 'the', 'game,', 'it', 'would', 'be', 'worth', 'twice', 'the', 'price', 'to', 'buy', 'it.I', 'wish', 'I', 'could', 'give', 'it', '6', 'stars.']\n"
          ],
          "name": "stdout"
        }
      ]
    }
  ]
}